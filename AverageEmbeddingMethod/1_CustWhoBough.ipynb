{
 "cells": [
  {
   "cell_type": "markdown",
   "id": "87888683-d04b-4097-bff4-27fd30e062ce",
   "metadata": {},
   "source": [
    "Creates a dictionary of customers who bought something in target week"
   ]
  },
  {
   "cell_type": "code",
   "execution_count": 1,
   "id": "4abede52-9960-41a2-bb38-0193a546bcd4",
   "metadata": {},
   "outputs": [],
   "source": [
    "import pandas as pd, os, numpy as np\n",
    "import plotly.express as px\n",
    "pd.options.display.max_columns = 50\n",
    "import swifter, datetime, pickle as pkl\n",
    "import tensorflow_hub as hub\n",
    "from tqdm.notebook import tqdm"
   ]
  },
  {
   "cell_type": "code",
   "execution_count": 2,
   "id": "799c6217-32fe-4ff1-86ac-e3aeb2c6c918",
   "metadata": {},
   "outputs": [],
   "source": [
    "df = pd.read_parquet('./data/train.parquet')"
   ]
  },
  {
   "cell_type": "code",
   "execution_count": 3,
   "id": "7cde0f3c-7499-45b9-9046-a0d921e187fe",
   "metadata": {},
   "outputs": [],
   "source": [
    "d_end = datetime.datetime(2019, 9, 29).date()\n",
    "d_start = datetime.datetime(2019, 9, 23).date()"
   ]
  },
  {
   "cell_type": "code",
   "execution_count": 4,
   "id": "bd7b98a6-2d1d-4f87-99bc-d381dd1270ac",
   "metadata": {},
   "outputs": [],
   "source": [
    "tdf = df[(df['date'] >= d_start) & (df['date'] <= d_end)].reset_index(drop=True).copy()"
   ]
  },
  {
   "cell_type": "code",
   "execution_count": 5,
   "id": "760840ea-d315-4c88-bf81-e6c9cca338e7",
   "metadata": {},
   "outputs": [],
   "source": [
    "cb = tdf['cust_id'].unique().tolist()"
   ]
  },
  {
   "cell_type": "code",
   "execution_count": 6,
   "id": "ccf364a7-9114-4d53-b575-65c68dd6f701",
   "metadata": {},
   "outputs": [],
   "source": [
    "with open('./data/cust_bought.pkl', 'wb') as handle:\n",
    "    pkl.dump(cb, handle, protocol=3)"
   ]
  },
  {
   "cell_type": "code",
   "execution_count": null,
   "id": "7938a6b6-01d9-443e-8fe1-06d197ba18c8",
   "metadata": {},
   "outputs": [],
   "source": []
  }
 ],
 "metadata": {
  "kernelspec": {
   "display_name": "Python 3 (ipykernel)",
   "language": "python",
   "name": "python3"
  },
  "language_info": {
   "codemirror_mode": {
    "name": "ipython",
    "version": 3
   },
   "file_extension": ".py",
   "mimetype": "text/x-python",
   "name": "python",
   "nbconvert_exporter": "python",
   "pygments_lexer": "ipython3",
   "version": "3.9.7"
  }
 },
 "nbformat": 4,
 "nbformat_minor": 5
}
