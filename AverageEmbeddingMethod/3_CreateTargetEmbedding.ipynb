{
 "cells": [
  {
   "cell_type": "markdown",
   "id": "266024a4-59de-40b1-9629-94905112c404",
   "metadata": {},
   "source": [
    "### Create Target Embedding for customers who bought"
   ]
  },
  {
   "cell_type": "code",
   "execution_count": 1,
   "id": "4abede52-9960-41a2-bb38-0193a546bcd4",
   "metadata": {},
   "outputs": [],
   "source": [
    "import pandas as pd, os, numpy as np\n",
    "import plotly.express as px\n",
    "pd.options.display.max_columns = 50\n",
    "import swifter, datetime, pickle as pkl\n",
    "import tensorflow_hub as hub\n",
    "from tqdm.notebook import tqdm"
   ]
  },
  {
   "cell_type": "code",
   "execution_count": 2,
   "id": "db18514e-134f-47db-9cea-f59cfc5e8d26",
   "metadata": {},
   "outputs": [],
   "source": [
    "with open('./data/emb_map.pkl', 'rb') as handle:\n",
    "    emb_map = pkl.load(handle)"
   ]
  },
  {
   "cell_type": "code",
   "execution_count": 3,
   "id": "5404545b-ef88-431b-a6f3-430fdd6a7006",
   "metadata": {},
   "outputs": [],
   "source": [
    "adf = pd.read_parquet('./data/articles.parquet')"
   ]
  },
  {
   "cell_type": "code",
   "execution_count": 4,
   "id": "b81d0c03-7374-42ba-bea9-48c190ae6ee2",
   "metadata": {},
   "outputs": [],
   "source": [
    "tdf = pd.read_parquet('./data/train.parquet')"
   ]
  },
  {
   "cell_type": "code",
   "execution_count": 5,
   "id": "132092ff-7c5b-4736-84d3-82799efb52e3",
   "metadata": {},
   "outputs": [],
   "source": [
    "bdf = pd.read_parquet('./data/bought_articles_in_order.parquet')"
   ]
  },
  {
   "cell_type": "code",
   "execution_count": 6,
   "id": "70b36a09-0f98-4089-9eaa-ebbbb2c93642",
   "metadata": {},
   "outputs": [],
   "source": [
    "bdf_dict = bdf.set_index('cust_id').to_dict(orient='dict')['article_id']"
   ]
  },
  {
   "cell_type": "code",
   "execution_count": 7,
   "id": "bdc4dc75-5fb8-4927-a6ce-b81243aa6d80",
   "metadata": {},
   "outputs": [
    {
     "data": {
      "text/html": [
       "<div>\n",
       "<style scoped>\n",
       "    .dataframe tbody tr th:only-of-type {\n",
       "        vertical-align: middle;\n",
       "    }\n",
       "\n",
       "    .dataframe tbody tr th {\n",
       "        vertical-align: top;\n",
       "    }\n",
       "\n",
       "    .dataframe thead th {\n",
       "        text-align: right;\n",
       "    }\n",
       "</style>\n",
       "<table border=\"1\" class=\"dataframe\">\n",
       "  <thead>\n",
       "    <tr style=\"text-align: right;\">\n",
       "      <th></th>\n",
       "      <th>cust_id</th>\n",
       "      <th>article_id</th>\n",
       "    </tr>\n",
       "  </thead>\n",
       "  <tbody>\n",
       "    <tr>\n",
       "      <th>0</th>\n",
       "      <td>0</td>\n",
       "      <td>[797065001]</td>\n",
       "    </tr>\n",
       "    <tr>\n",
       "      <th>1</th>\n",
       "      <td>13</td>\n",
       "      <td>[693242018, 661794006, 763037004, 640176008, 6...</td>\n",
       "    </tr>\n",
       "    <tr>\n",
       "      <th>2</th>\n",
       "      <td>21</td>\n",
       "      <td>[513512003, 535035001, 677930066]</td>\n",
       "    </tr>\n",
       "    <tr>\n",
       "      <th>3</th>\n",
       "      <td>22</td>\n",
       "      <td>[805947002, 705966002, 803290002, 797710001, 7...</td>\n",
       "    </tr>\n",
       "    <tr>\n",
       "      <th>4</th>\n",
       "      <td>29</td>\n",
       "      <td>[730683003, 787558001]</td>\n",
       "    </tr>\n",
       "  </tbody>\n",
       "</table>\n",
       "</div>"
      ],
      "text/plain": [
       "   cust_id                                         article_id\n",
       "0        0                                        [797065001]\n",
       "1       13  [693242018, 661794006, 763037004, 640176008, 6...\n",
       "2       21                  [513512003, 535035001, 677930066]\n",
       "3       22  [805947002, 705966002, 803290002, 797710001, 7...\n",
       "4       29                             [730683003, 787558001]"
      ]
     },
     "execution_count": 7,
     "metadata": {},
     "output_type": "execute_result"
    }
   ],
   "source": [
    "bdf.head()"
   ]
  },
  {
   "cell_type": "code",
   "execution_count": 8,
   "id": "d56e610c-3ec5-4f80-bdc6-fe0b3742d17c",
   "metadata": {},
   "outputs": [],
   "source": [
    "cids = bdf['cust_id'].unique()"
   ]
  },
  {
   "cell_type": "code",
   "execution_count": 9,
   "id": "a80ec0f1-c0b3-4f82-acb4-5027468110a7",
   "metadata": {},
   "outputs": [],
   "source": [
    "ctarget_map = {}"
   ]
  },
  {
   "cell_type": "code",
   "execution_count": 10,
   "id": "6647dc54-1901-40fb-991b-c88364a41bd1",
   "metadata": {},
   "outputs": [
    {
     "data": {
      "application/vnd.jupyter.widget-view+json": {
       "model_id": "6f27a9c2043945a98612542969ce05a3",
       "version_major": 2,
       "version_minor": 0
      },
      "text/plain": [
       "  0%|          | 0/97992 [00:00<?, ?it/s]"
      ]
     },
     "metadata": {},
     "output_type": "display_data"
    }
   ],
   "source": [
    "for cid in tqdm(cids, total=len(cids)):\n",
    "    keys = bdf_dict[cid][:12]\n",
    "    embs = [emb_map[x] for x in keys]\n",
    "    embs = np.array(embs)\n",
    "    cemb = embs.mean(axis=0)\n",
    "    cemb /= np.linalg.norm(cemb)\n",
    "    ctarget_map[cid] = cemb"
   ]
  },
  {
   "cell_type": "code",
   "execution_count": 11,
   "id": "f462eb46-de5a-4059-9c46-1f84fb882f47",
   "metadata": {},
   "outputs": [
    {
     "data": {
      "text/plain": [
       "array([693242018, 661794006, 763037004, 640176008, 688326010], dtype=int64)"
      ]
     },
     "execution_count": 11,
     "metadata": {},
     "output_type": "execute_result"
    }
   ],
   "source": [
    "bdf_dict[13]"
   ]
  },
  {
   "cell_type": "code",
   "execution_count": 12,
   "id": "cc9632ba-8d13-45bf-b1e0-c82848274fa3",
   "metadata": {},
   "outputs": [],
   "source": [
    "f = [693242018, 661794006, 763037004, 640176008, 688326010]"
   ]
  },
  {
   "cell_type": "code",
   "execution_count": 13,
   "id": "d1984f5c-59f8-4b6e-9e36-aa46124b0cde",
   "metadata": {},
   "outputs": [],
   "source": [
    "af = adf[adf['article_id'].isin(f)].copy()"
   ]
  },
  {
   "cell_type": "code",
   "execution_count": 14,
   "id": "4b9e7bf1-20c9-4727-988a-ea45501b43f9",
   "metadata": {},
   "outputs": [],
   "source": [
    "akeys = list(emb_map.keys())\n",
    "aembs = list(emb_map.values())"
   ]
  },
  {
   "cell_type": "code",
   "execution_count": 15,
   "id": "c4367f81-774c-4a36-a353-e146cbee9400",
   "metadata": {},
   "outputs": [],
   "source": [
    "aembs = np.array(aembs)"
   ]
  },
  {
   "cell_type": "code",
   "execution_count": 16,
   "id": "b4675fd4-9d7c-4e98-ad54-598a5483fedf",
   "metadata": {},
   "outputs": [],
   "source": [
    "akeys = np.array(akeys)"
   ]
  },
  {
   "cell_type": "code",
   "execution_count": 17,
   "id": "e947d706-d76e-4fef-afe8-aa82f1cf40b1",
   "metadata": {},
   "outputs": [],
   "source": [
    "def calculateSimilarity(queryVector):\n",
    "    scores = queryVector.dot(aembsT).flatten() # cosine similarity scores. (assumes vectors are normalized to unit length)\n",
    "    return scores"
   ]
  },
  {
   "cell_type": "code",
   "execution_count": 18,
   "id": "2e7dc8ca-ea7f-4081-9aac-8029fc60843c",
   "metadata": {},
   "outputs": [],
   "source": [
    "aembsT = aembs.T"
   ]
  },
  {
   "cell_type": "code",
   "execution_count": 19,
   "id": "ed1b5e90-adae-4b01-83c7-997985dd273f",
   "metadata": {},
   "outputs": [],
   "source": [
    "def rankPostsBySimilarity(posts_ids, scores):\n",
    "    return sorted([(post_id, score) for (post_id, score) in zip(posts_ids, scores)], key=lambda x:x[1], reverse=True)[:12]"
   ]
  },
  {
   "cell_type": "code",
   "execution_count": 20,
   "id": "3007a622-3b59-496e-899e-0f29c9167ff8",
   "metadata": {},
   "outputs": [],
   "source": [
    "p = ctarget_map[13]"
   ]
  },
  {
   "cell_type": "code",
   "execution_count": 21,
   "id": "5fef72f7-89a0-41b2-a855-7e8e0371f0d8",
   "metadata": {},
   "outputs": [],
   "source": [
    "sims = calculateSimilarity(p)\n",
    "temp = np.argpartition(sims, -12)[-12:]\n",
    "r = rankPostsBySimilarity(akeys[temp], sims[temp])"
   ]
  },
  {
   "cell_type": "code",
   "execution_count": 22,
   "id": "fba07250-fe16-4cae-b1a9-256a4a24f929",
   "metadata": {},
   "outputs": [
    {
     "data": {
      "text/plain": [
       "[(607884001, 0.9143403),\n",
       " (549477005, 0.91267955),\n",
       " (836142001, 0.9107467),\n",
       " (578997004, 0.9105623),\n",
       " (832817003, 0.90895796),\n",
       " (903994001, 0.9084431),\n",
       " (933662001, 0.9078496),\n",
       " (561218003, 0.9066959),\n",
       " (693242018, 0.90669584),\n",
       " (666319001, 0.9056667),\n",
       " (870531001, 0.9053226),\n",
       " (640176008, 0.90502495)]"
      ]
     },
     "execution_count": 22,
     "metadata": {},
     "output_type": "execute_result"
    }
   ],
   "source": [
    "r"
   ]
  },
  {
   "cell_type": "code",
   "execution_count": null,
   "id": "0180e938-8d0b-4a71-bae2-315ce104ef18",
   "metadata": {},
   "outputs": [],
   "source": [
    "adf[adf['article_id'] == 515262001]"
   ]
  },
  {
   "cell_type": "code",
   "execution_count": 23,
   "id": "72e54312-0d79-47b5-96f0-47e60cb17c66",
   "metadata": {},
   "outputs": [
    {
     "data": {
      "text/html": [
       "<div>\n",
       "<style scoped>\n",
       "    .dataframe tbody tr th:only-of-type {\n",
       "        vertical-align: middle;\n",
       "    }\n",
       "\n",
       "    .dataframe tbody tr th {\n",
       "        vertical-align: top;\n",
       "    }\n",
       "\n",
       "    .dataframe thead th {\n",
       "        text-align: right;\n",
       "    }\n",
       "</style>\n",
       "<table border=\"1\" class=\"dataframe\">\n",
       "  <thead>\n",
       "    <tr style=\"text-align: right;\">\n",
       "      <th></th>\n",
       "      <th>article_id</th>\n",
       "      <th>product_code</th>\n",
       "      <th>prod_name</th>\n",
       "      <th>product_type_no</th>\n",
       "      <th>product_type_name</th>\n",
       "      <th>product_group_name</th>\n",
       "      <th>graphical_appearance_name</th>\n",
       "      <th>colour_group_name</th>\n",
       "      <th>perceived_colour_value_name</th>\n",
       "      <th>perceived_colour_master_name</th>\n",
       "      <th>department_no</th>\n",
       "      <th>department_name</th>\n",
       "      <th>index_name</th>\n",
       "      <th>index_group_name</th>\n",
       "      <th>section_no</th>\n",
       "      <th>section_name</th>\n",
       "      <th>garment_group_name</th>\n",
       "      <th>detail_desc</th>\n",
       "    </tr>\n",
       "  </thead>\n",
       "  <tbody>\n",
       "    <tr>\n",
       "      <th>33970</th>\n",
       "      <td>640176008</td>\n",
       "      <td>640176</td>\n",
       "      <td>Isa Cardigan</td>\n",
       "      <td>245</td>\n",
       "      <td>Cardigan</td>\n",
       "      <td>Garment Upper body</td>\n",
       "      <td>Solid</td>\n",
       "      <td>Black</td>\n",
       "      <td>Dark</td>\n",
       "      <td>Black</td>\n",
       "      <td>1647</td>\n",
       "      <td>Tops Knitwear</td>\n",
       "      <td>Divided</td>\n",
       "      <td>Divided</td>\n",
       "      <td>53</td>\n",
       "      <td>Divided Collection</td>\n",
       "      <td>Knitwear</td>\n",
       "      <td>Long cardigan in a soft knit with dropped shou...</td>\n",
       "    </tr>\n",
       "    <tr>\n",
       "      <th>39544</th>\n",
       "      <td>661794006</td>\n",
       "      <td>661794</td>\n",
       "      <td>Flamingo</td>\n",
       "      <td>263</td>\n",
       "      <td>Coat</td>\n",
       "      <td>Garment Upper body</td>\n",
       "      <td>Solid</td>\n",
       "      <td>Black</td>\n",
       "      <td>Dark</td>\n",
       "      <td>Black</td>\n",
       "      <td>1201</td>\n",
       "      <td>Outwear</td>\n",
       "      <td>Ladieswear</td>\n",
       "      <td>Ladieswear</td>\n",
       "      <td>19</td>\n",
       "      <td>Womens Jackets</td>\n",
       "      <td>Outdoor</td>\n",
       "      <td>Short coat in a woven wool blend with a high s...</td>\n",
       "    </tr>\n",
       "    <tr>\n",
       "      <th>47223</th>\n",
       "      <td>688326010</td>\n",
       "      <td>688326</td>\n",
       "      <td>Kurt Cord Pile</td>\n",
       "      <td>262</td>\n",
       "      <td>Jacket</td>\n",
       "      <td>Garment Upper body</td>\n",
       "      <td>Solid</td>\n",
       "      <td>Black</td>\n",
       "      <td>Dark</td>\n",
       "      <td>Black</td>\n",
       "      <td>5252</td>\n",
       "      <td>Jacket Casual</td>\n",
       "      <td>Menswear</td>\n",
       "      <td>Menswear</td>\n",
       "      <td>31</td>\n",
       "      <td>Mens Outerwear</td>\n",
       "      <td>Outdoor</td>\n",
       "      <td>Jacket in corduroy with a faux shearling-lined...</td>\n",
       "    </tr>\n",
       "    <tr>\n",
       "      <th>48786</th>\n",
       "      <td>693242018</td>\n",
       "      <td>693242</td>\n",
       "      <td>Bama(1)</td>\n",
       "      <td>252</td>\n",
       "      <td>Sweater</td>\n",
       "      <td>Garment Upper body</td>\n",
       "      <td>Solid</td>\n",
       "      <td>Black</td>\n",
       "      <td>Dark</td>\n",
       "      <td>Black</td>\n",
       "      <td>1626</td>\n",
       "      <td>Knitwear</td>\n",
       "      <td>Ladieswear</td>\n",
       "      <td>Ladieswear</td>\n",
       "      <td>15</td>\n",
       "      <td>Womens Everyday Collection</td>\n",
       "      <td>Knitwear</td>\n",
       "      <td>Wide jumper in a soft, fine knit containing so...</td>\n",
       "    </tr>\n",
       "    <tr>\n",
       "      <th>71169</th>\n",
       "      <td>763037004</td>\n",
       "      <td>763037</td>\n",
       "      <td>River</td>\n",
       "      <td>258</td>\n",
       "      <td>Blouse</td>\n",
       "      <td>Garment Upper body</td>\n",
       "      <td>Solid</td>\n",
       "      <td>Light Pink</td>\n",
       "      <td>Dusty Light</td>\n",
       "      <td>Pink</td>\n",
       "      <td>1515</td>\n",
       "      <td>Blouse</td>\n",
       "      <td>Ladieswear</td>\n",
       "      <td>Ladieswear</td>\n",
       "      <td>11</td>\n",
       "      <td>Womens Tailoring</td>\n",
       "      <td>Blouses</td>\n",
       "      <td>Blouse in an airy crêpe weave with a small sta...</td>\n",
       "    </tr>\n",
       "  </tbody>\n",
       "</table>\n",
       "</div>"
      ],
      "text/plain": [
       "       article_id  product_code       prod_name  product_type_no  \\\n",
       "33970   640176008        640176    Isa Cardigan              245   \n",
       "39544   661794006        661794        Flamingo              263   \n",
       "47223   688326010        688326  Kurt Cord Pile              262   \n",
       "48786   693242018        693242         Bama(1)              252   \n",
       "71169   763037004        763037           River              258   \n",
       "\n",
       "      product_type_name  product_group_name graphical_appearance_name  \\\n",
       "33970          Cardigan  Garment Upper body                     Solid   \n",
       "39544              Coat  Garment Upper body                     Solid   \n",
       "47223            Jacket  Garment Upper body                     Solid   \n",
       "48786           Sweater  Garment Upper body                     Solid   \n",
       "71169            Blouse  Garment Upper body                     Solid   \n",
       "\n",
       "      colour_group_name perceived_colour_value_name  \\\n",
       "33970             Black                        Dark   \n",
       "39544             Black                        Dark   \n",
       "47223             Black                        Dark   \n",
       "48786             Black                        Dark   \n",
       "71169        Light Pink                 Dusty Light   \n",
       "\n",
       "      perceived_colour_master_name  department_no department_name  index_name  \\\n",
       "33970                        Black           1647   Tops Knitwear     Divided   \n",
       "39544                        Black           1201         Outwear  Ladieswear   \n",
       "47223                        Black           5252   Jacket Casual    Menswear   \n",
       "48786                        Black           1626        Knitwear  Ladieswear   \n",
       "71169                         Pink           1515          Blouse  Ladieswear   \n",
       "\n",
       "      index_group_name  section_no                section_name  \\\n",
       "33970          Divided          53          Divided Collection   \n",
       "39544       Ladieswear          19              Womens Jackets   \n",
       "47223         Menswear          31              Mens Outerwear   \n",
       "48786       Ladieswear          15  Womens Everyday Collection   \n",
       "71169       Ladieswear          11            Womens Tailoring   \n",
       "\n",
       "      garment_group_name                                        detail_desc  \n",
       "33970           Knitwear  Long cardigan in a soft knit with dropped shou...  \n",
       "39544            Outdoor  Short coat in a woven wool blend with a high s...  \n",
       "47223            Outdoor  Jacket in corduroy with a faux shearling-lined...  \n",
       "48786           Knitwear  Wide jumper in a soft, fine knit containing so...  \n",
       "71169            Blouses  Blouse in an airy crêpe weave with a small sta...  "
      ]
     },
     "execution_count": 23,
     "metadata": {},
     "output_type": "execute_result"
    }
   ],
   "source": [
    "af"
   ]
  },
  {
   "cell_type": "code",
   "execution_count": null,
   "id": "6deb0220-1db3-4c8d-b402-67904c27f9c3",
   "metadata": {},
   "outputs": [],
   "source": [
    "with open('./data/ctarget_map.pkl', 'wb') as handle:\n",
    "    pkl.dump(ctarget_map, handle, protocol=3)"
   ]
  },
  {
   "cell_type": "code",
   "execution_count": null,
   "id": "760840ea-d315-4c88-bf81-e6c9cca338e7",
   "metadata": {},
   "outputs": [],
   "source": []
  }
 ],
 "metadata": {
  "kernelspec": {
   "display_name": "Python 3 (ipykernel)",
   "language": "python",
   "name": "python3"
  },
  "language_info": {
   "codemirror_mode": {
    "name": "ipython",
    "version": 3
   },
   "file_extension": ".py",
   "mimetype": "text/x-python",
   "name": "python",
   "nbconvert_exporter": "python",
   "pygments_lexer": "ipython3",
   "version": "3.9.7"
  }
 },
 "nbformat": 4,
 "nbformat_minor": 5
}
