{
 "cells": [
  {
   "cell_type": "markdown",
   "id": "ed6b53db-8e78-4ac0-b666-a8ab424491da",
   "metadata": {},
   "source": [
    "### Generates the predictions to be submitted to kaggle\n",
    "\n",
    "1. Generate embeddings for all users from training data\n",
    "2. Use model to make predictions for users who have purchases >0\n",
    "3. For users that dont have purchases, predict most popular from last week"
   ]
  },
  {
   "cell_type": "code",
   "execution_count": 1,
   "id": "b8c1b1bb-2d8b-4a48-a645-f2aa67ff9ac7",
   "metadata": {},
   "outputs": [],
   "source": [
    "import numba"
   ]
  },
  {
   "cell_type": "code",
   "execution_count": 2,
   "id": "4abede52-9960-41a2-bb38-0193a546bcd4",
   "metadata": {},
   "outputs": [],
   "source": [
    "import pandas as pd, os, numpy as np\n",
    "import plotly.express as px\n",
    "pd.options.display.max_columns = 50\n",
    "import swifter, datetime, pickle as pkl\n",
    "import tensorflow_hub as hub\n",
    "from tqdm.notebook import tqdm"
   ]
  },
  {
   "cell_type": "code",
   "execution_count": 3,
   "id": "d7030453-597b-487b-86d4-6be1c8cb8794",
   "metadata": {},
   "outputs": [],
   "source": [
    "from tensorflow import keras\n",
    "from tensorflow.keras import layers\n",
    "import tensorflow as tf\n",
    "import tensorflow_addons as tfa\n",
    "from tensorflow.keras import regularizers"
   ]
  },
  {
   "cell_type": "code",
   "execution_count": 4,
   "id": "db18514e-134f-47db-9cea-f59cfc5e8d26",
   "metadata": {},
   "outputs": [],
   "source": [
    "with open('./data/all_cemb_map.pkl', 'rb') as handle:\n",
    "    all_cemb_map = pkl.load(handle)"
   ]
  },
  {
   "cell_type": "code",
   "execution_count": 5,
   "id": "ce0b6fa8-2d14-4cb0-9225-2f2b96ec29c5",
   "metadata": {},
   "outputs": [],
   "source": [
    "with open('./data/scaler.pkl', 'rb') as handle:\n",
    "    scaler = pkl.load(handle)"
   ]
  },
  {
   "cell_type": "code",
   "execution_count": 17,
   "id": "22528ad3-431c-4350-a0e5-2f5b2be2ade5",
   "metadata": {},
   "outputs": [],
   "source": [
    "keys = list(all_cemb_map.keys())"
   ]
  },
  {
   "cell_type": "code",
   "execution_count": 18,
   "id": "84407f56-a686-4311-bd5c-5f4aa82c5b7c",
   "metadata": {},
   "outputs": [],
   "source": [
    "values = list(all_cemb_map.values())"
   ]
  },
  {
   "cell_type": "code",
   "execution_count": 23,
   "id": "37cc5ef4-eca4-4155-8b48-f894d1ddfeb9",
   "metadata": {},
   "outputs": [],
   "source": [
    "model = keras.models.load_model('./models/model1')"
   ]
  },
  {
   "cell_type": "code",
   "execution_count": 24,
   "id": "cdf22e1e-c729-4314-83d3-01c24552d2dd",
   "metadata": {},
   "outputs": [],
   "source": [
    "values_fs = np.array(values)"
   ]
  },
  {
   "cell_type": "code",
   "execution_count": 25,
   "id": "5e9b1abf-f81c-4c41-b87e-4ccc843c0ccd",
   "metadata": {},
   "outputs": [
    {
     "data": {
      "text/plain": [
       "(1362281, 512)"
      ]
     },
     "execution_count": 25,
     "metadata": {},
     "output_type": "execute_result"
    }
   ],
   "source": [
    "values_fs.shape"
   ]
  },
  {
   "cell_type": "code",
   "execution_count": 26,
   "id": "8cf59af7-8974-40b3-8c7d-92524329ebc3",
   "metadata": {},
   "outputs": [],
   "source": [
    "values_fs = scaler.transform(values_fs)"
   ]
  },
  {
   "cell_type": "code",
   "execution_count": 27,
   "id": "138780f9-b289-4b8a-856b-85f4ebf0e4b5",
   "metadata": {},
   "outputs": [
    {
     "name": "stdout",
     "output_type": "stream",
     "text": [
      "42572/42572 [==============================] - 50s 1ms/step\n"
     ]
    }
   ],
   "source": [
    "preds = model.predict(values_fs, verbose=1)"
   ]
  },
  {
   "cell_type": "code",
   "execution_count": 28,
   "id": "79b57c78-4006-44e2-8c36-aea957ee67a2",
   "metadata": {},
   "outputs": [
    {
     "data": {
      "text/plain": [
       "(1362281, 512)"
      ]
     },
     "execution_count": 28,
     "metadata": {},
     "output_type": "execute_result"
    }
   ],
   "source": [
    "preds.shape"
   ]
  },
  {
   "cell_type": "code",
   "execution_count": 29,
   "id": "61bd8435-5487-41cb-93a3-020046adade9",
   "metadata": {},
   "outputs": [],
   "source": [
    "df = pd.read_parquet('./data/train.parquet')"
   ]
  },
  {
   "cell_type": "code",
   "execution_count": 30,
   "id": "2d6a5a0f-f740-4f10-ab6d-d7937566b9b2",
   "metadata": {},
   "outputs": [],
   "source": [
    "d_end = datetime.datetime(2020, 9, 22).date()\n",
    "d_start = datetime.datetime(2020, 9, 1).date()"
   ]
  },
  {
   "cell_type": "code",
   "execution_count": 31,
   "id": "f7239199-b220-4ada-8e47-374f3cb46a0b",
   "metadata": {},
   "outputs": [],
   "source": [
    "tdf = df[(df['date'] >= d_start) & (df['date'] <= d_end)].reset_index(drop=True).copy()"
   ]
  },
  {
   "cell_type": "code",
   "execution_count": 32,
   "id": "0393988a-2e59-4098-b0bb-639a432d7e82",
   "metadata": {},
   "outputs": [],
   "source": [
    "uaids = tdf['article_id'].unique()"
   ]
  },
  {
   "cell_type": "code",
   "execution_count": 33,
   "id": "dfca957e-1edb-4fe9-9a33-24c0e5017cab",
   "metadata": {},
   "outputs": [],
   "source": [
    "with open('./data/emb_map.pkl', 'rb') as handle:\n",
    "    emb_map = pkl.load(handle)"
   ]
  },
  {
   "cell_type": "code",
   "execution_count": 34,
   "id": "06a85daa-b817-4530-b994-81cc102a6f7b",
   "metadata": {},
   "outputs": [],
   "source": [
    "f_emb_map = {}\n",
    "for aid in uaids:\n",
    "    f_emb_map[aid] = emb_map[aid]"
   ]
  },
  {
   "cell_type": "code",
   "execution_count": 35,
   "id": "ed1a2b15-ff24-406f-8c77-95dc4ae5241d",
   "metadata": {},
   "outputs": [
    {
     "data": {
      "text/plain": [
       "26252"
      ]
     },
     "execution_count": 35,
     "metadata": {},
     "output_type": "execute_result"
    }
   ],
   "source": [
    "len(f_emb_map)"
   ]
  },
  {
   "cell_type": "code",
   "execution_count": 36,
   "id": "d4f32de0-bfd4-4892-b3ca-1f1a88d5790b",
   "metadata": {},
   "outputs": [
    {
     "data": {
      "text/plain": [
       "26252"
      ]
     },
     "execution_count": 36,
     "metadata": {},
     "output_type": "execute_result"
    }
   ],
   "source": [
    "len(uaids)"
   ]
  },
  {
   "cell_type": "code",
   "execution_count": 37,
   "id": "20e49ae1-3be3-465b-add7-7194a16bff71",
   "metadata": {},
   "outputs": [],
   "source": [
    "akeys = list(f_emb_map.keys())\n",
    "aembs = list(f_emb_map.values())"
   ]
  },
  {
   "cell_type": "code",
   "execution_count": 38,
   "id": "542e0726-ef4f-403c-9535-46fa178a833b",
   "metadata": {},
   "outputs": [],
   "source": [
    "aembs = np.array(aembs)"
   ]
  },
  {
   "cell_type": "code",
   "execution_count": 39,
   "id": "c700bcb6-3cc3-4cdb-84e2-5d9ccb2d0890",
   "metadata": {},
   "outputs": [],
   "source": [
    "akeys = np.array(akeys)"
   ]
  },
  {
   "cell_type": "code",
   "execution_count": 40,
   "id": "28bd22ac-8ff3-4b05-a024-540d5eb03201",
   "metadata": {},
   "outputs": [],
   "source": [
    "aembsT = aembs.T"
   ]
  },
  {
   "cell_type": "code",
   "execution_count": 51,
   "id": "b1f0aaf6-ef1e-41ef-8d6f-268958953dd3",
   "metadata": {},
   "outputs": [],
   "source": [
    "# def calculateSimilarity(queryVector):\n",
    "#     scores = queryVector.dot(aembsT).flatten() # cosine similarity scores. (assumes vectors are normalized to unit length)\n",
    "#     return scores\n",
    "\n",
    "def calculateSimilarity2(queryVector):\n",
    "    scores = np.linalg.norm(aembs - queryVector, axis=1).flatten()\n",
    "    return scores"
   ]
  },
  {
   "cell_type": "code",
   "execution_count": 52,
   "id": "a5320510-9b60-4c3b-9881-625d1a015227",
   "metadata": {},
   "outputs": [
    {
     "data": {
      "text/plain": [
       "(26252, 512)"
      ]
     },
     "execution_count": 52,
     "metadata": {},
     "output_type": "execute_result"
    }
   ],
   "source": [
    "aembs.shape"
   ]
  },
  {
   "cell_type": "code",
   "execution_count": 53,
   "id": "7ee048f3-fe17-4eea-b03c-7902693cec99",
   "metadata": {},
   "outputs": [],
   "source": [
    "def rankPostsBySimilarity(posts_ids, scores):\n",
    "    return sorted([(post_id, score) for (post_id, score) in zip(posts_ids, scores)], key=lambda x:x[1], reverse=False)[:12]"
   ]
  },
  {
   "cell_type": "code",
   "execution_count": 54,
   "id": "f83ae1f0-0e8b-4401-ac40-e2b38a1066d8",
   "metadata": {},
   "outputs": [],
   "source": [
    "import time"
   ]
  },
  {
   "cell_type": "code",
   "execution_count": 55,
   "id": "cd5c14ac-1725-4edc-9639-751ac0388947",
   "metadata": {},
   "outputs": [
    {
     "data": {
      "text/plain": [
       "array([-0.04759209,  0.04022962, -0.02809096, -0.00954398,  0.02968043,\n",
       "        0.02860958,  0.03878016,  0.0705606 ,  0.06684647, -0.01625933],\n",
       "      dtype=float32)"
      ]
     },
     "execution_count": 55,
     "metadata": {},
     "output_type": "execute_result"
    }
   ],
   "source": [
    "preds[0][:10]"
   ]
  },
  {
   "cell_type": "code",
   "execution_count": 56,
   "id": "f11afc2d-1d45-4c45-a739-f8f3069472ae",
   "metadata": {},
   "outputs": [
    {
     "data": {
      "text/plain": [
       "array([-0.04577065,  0.03328498, -0.03254869, -0.01129808,  0.03612462,\n",
       "        0.03349651,  0.04484773,  0.07012564,  0.06950598, -0.02301978],\n",
       "      dtype=float32)"
      ]
     },
     "execution_count": 56,
     "metadata": {},
     "output_type": "execute_result"
    }
   ],
   "source": [
    "preds[1][:10]"
   ]
  },
  {
   "cell_type": "code",
   "execution_count": 57,
   "id": "7bb62b01-39ff-4d7a-9a28-9ab4ac3f3343",
   "metadata": {},
   "outputs": [
    {
     "data": {
      "application/vnd.jupyter.widget-view+json": {
       "model_id": "bd0caa8edf3a42a8961f6c3cc8d26bec",
       "version_major": 2,
       "version_minor": 0
      },
      "text/plain": [
       "  0%|          | 0/1362281 [00:00<?, ?it/s]"
      ]
     },
     "metadata": {},
     "output_type": "display_data"
    },
    {
     "name": "stdout",
     "output_type": "stream",
     "text": [
      "total time taken: 0.4391510486602783\n"
     ]
    }
   ],
   "source": [
    "cpreds = []\n",
    "start=time.time()\n",
    "for p in tqdm(preds[:10], total=len(preds)):\n",
    "    sims = calculateSimilarity2(p)\n",
    "    temp = np.argpartition(sims, -12)[-12:]\n",
    "    r = rankPostsBySimilarity(akeys[temp], sims[temp])\n",
    "    rank_ids = [v[0] for v in r]\n",
    "    \n",
    "    preds_sep_f = ''\n",
    "    for i in range(len(rank_ids)):\n",
    "        val = '0' + str(rank_ids[i])\n",
    "        if i != len(rank_ids) - 1:\n",
    "            val += ' '\n",
    "        preds_sep_f += val\n",
    "    cpreds.append(preds_sep_f)\n",
    "end = time.time()\n",
    "print(\"total time taken: {}\".format(end-start))\n",
    "    # rank_ids = [v[0] for v in r]\n",
    "    \n",
    "    # preds_sep_f = ''\n",
    "    # for i in range(len(rank_ids)):\n",
    "    #     val = '0' + str(rank_ids[i])\n",
    "    #     if i != len(rank_ids) - 1:\n",
    "    #         val += ' '\n",
    "    #     preds_sep_f += val\n",
    "    # cpreds.append(preds_sep_f)"
   ]
  },
  {
   "cell_type": "code",
   "execution_count": 49,
   "id": "8617e124-14f4-4f31-ac6c-9e269201c31d",
   "metadata": {},
   "outputs": [],
   "source": [
    "adf = pd.read_parquet('./data/articles.parquet')"
   ]
  },
  {
   "cell_type": "code",
   "execution_count": 61,
   "id": "18ad7012-c310-45b3-8392-5da0fe49c850",
   "metadata": {},
   "outputs": [
    {
     "data": {
      "text/html": [
       "<div>\n",
       "<style scoped>\n",
       "    .dataframe tbody tr th:only-of-type {\n",
       "        vertical-align: middle;\n",
       "    }\n",
       "\n",
       "    .dataframe tbody tr th {\n",
       "        vertical-align: top;\n",
       "    }\n",
       "\n",
       "    .dataframe thead th {\n",
       "        text-align: right;\n",
       "    }\n",
       "</style>\n",
       "<table border=\"1\" class=\"dataframe\">\n",
       "  <thead>\n",
       "    <tr style=\"text-align: right;\">\n",
       "      <th></th>\n",
       "      <th>article_id</th>\n",
       "      <th>product_code</th>\n",
       "      <th>prod_name</th>\n",
       "      <th>product_type_no</th>\n",
       "      <th>product_type_name</th>\n",
       "      <th>product_group_name</th>\n",
       "      <th>graphical_appearance_name</th>\n",
       "      <th>colour_group_name</th>\n",
       "      <th>perceived_colour_value_name</th>\n",
       "      <th>perceived_colour_master_name</th>\n",
       "      <th>department_no</th>\n",
       "      <th>department_name</th>\n",
       "      <th>index_name</th>\n",
       "      <th>index_group_name</th>\n",
       "      <th>section_no</th>\n",
       "      <th>section_name</th>\n",
       "      <th>garment_group_name</th>\n",
       "      <th>detail_desc</th>\n",
       "    </tr>\n",
       "  </thead>\n",
       "  <tbody>\n",
       "    <tr>\n",
       "      <th>82708</th>\n",
       "      <td>809590003</td>\n",
       "      <td>809590</td>\n",
       "      <td>Headphones</td>\n",
       "      <td>78</td>\n",
       "      <td>Other accessories</td>\n",
       "      <td>Accessories</td>\n",
       "      <td>Solid</td>\n",
       "      <td>Turquoise</td>\n",
       "      <td>Medium</td>\n",
       "      <td>Turquoise</td>\n",
       "      <td>4313</td>\n",
       "      <td>Girls Small Acc/Bags</td>\n",
       "      <td>Children Accessories, Swimwear</td>\n",
       "      <td>Baby/Children</td>\n",
       "      <td>43</td>\n",
       "      <td>Kids Accessories, Swimwear &amp; D</td>\n",
       "      <td>Accessories</td>\n",
       "      <td>Adjustable, shimmering on-ear headphones with ...</td>\n",
       "    </tr>\n",
       "  </tbody>\n",
       "</table>\n",
       "</div>"
      ],
      "text/plain": [
       "       article_id  product_code   prod_name  product_type_no  \\\n",
       "82708   809590003        809590  Headphones               78   \n",
       "\n",
       "       product_type_name product_group_name graphical_appearance_name  \\\n",
       "82708  Other accessories        Accessories                     Solid   \n",
       "\n",
       "      colour_group_name perceived_colour_value_name  \\\n",
       "82708         Turquoise                      Medium   \n",
       "\n",
       "      perceived_colour_master_name  department_no       department_name  \\\n",
       "82708                    Turquoise           4313  Girls Small Acc/Bags   \n",
       "\n",
       "                           index_name index_group_name  section_no  \\\n",
       "82708  Children Accessories, Swimwear    Baby/Children          43   \n",
       "\n",
       "                         section_name garment_group_name  \\\n",
       "82708  Kids Accessories, Swimwear & D        Accessories   \n",
       "\n",
       "                                             detail_desc  \n",
       "82708  Adjustable, shimmering on-ear headphones with ...  "
      ]
     },
     "execution_count": 61,
     "metadata": {},
     "output_type": "execute_result"
    }
   ],
   "source": [
    "adf[adf['article_id'] == 809590003]"
   ]
  },
  {
   "cell_type": "code",
   "execution_count": null,
   "id": "3e7ae5f6-2f80-45d4-8d79-823474c1f189",
   "metadata": {},
   "outputs": [],
   "source": [
    "pdf = pd.DataFrame()\n",
    "pdf['cust_id'] = keys\n",
    "pdf['prediction'] = cpreds"
   ]
  },
  {
   "cell_type": "code",
   "execution_count": null,
   "id": "3abbb320-7c7c-4af2-827a-054bad876b55",
   "metadata": {},
   "outputs": [],
   "source": [
    "pdf.to_parquet('./data/cpreds.parquet')"
   ]
  },
  {
   "cell_type": "code",
   "execution_count": null,
   "id": "ce6d1727-452b-4c19-95f5-4a50d7605515",
   "metadata": {},
   "outputs": [],
   "source": [
    "pdf"
   ]
  },
  {
   "cell_type": "code",
   "execution_count": null,
   "id": "30e8a6d8-bec6-4d90-bdd7-cae63bd2bd0b",
   "metadata": {},
   "outputs": [],
   "source": []
  }
 ],
 "metadata": {
  "kernelspec": {
   "display_name": "Python 3 (ipykernel)",
   "language": "python",
   "name": "python3"
  },
  "language_info": {
   "codemirror_mode": {
    "name": "ipython",
    "version": 3
   },
   "file_extension": ".py",
   "mimetype": "text/x-python",
   "name": "python",
   "nbconvert_exporter": "python",
   "pygments_lexer": "ipython3",
   "version": "3.9.7"
  }
 },
 "nbformat": 4,
 "nbformat_minor": 5
}
