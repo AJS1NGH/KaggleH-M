{
 "cells": [
  {
   "cell_type": "markdown",
   "id": "3beba1d8-4e3a-4cf5-b8b4-ca68552ef36c",
   "metadata": {},
   "source": [
    "### Trains a neural network to predict a 512 dimensional vector"
   ]
  },
  {
   "cell_type": "code",
   "execution_count": 1,
   "id": "4abede52-9960-41a2-bb38-0193a546bcd4",
   "metadata": {},
   "outputs": [],
   "source": [
    "import pandas as pd, os, numpy as np\n",
    "import plotly.express as px\n",
    "pd.options.display.max_columns = 50\n",
    "import swifter, datetime, pickle as pkl\n",
    "import tensorflow_hub as hub\n",
    "from tqdm.notebook import tqdm"
   ]
  },
  {
   "cell_type": "code",
   "execution_count": 2,
   "id": "05f93b33-627a-4ed4-aa1c-5949b759b304",
   "metadata": {},
   "outputs": [],
   "source": [
    "from tensorflow import keras\n",
    "from tensorflow.keras import layers\n",
    "import tensorflow as tf\n",
    "import tensorflow_addons as tfa\n",
    "from tensorflow.keras import regularizers"
   ]
  },
  {
   "cell_type": "code",
   "execution_count": 3,
   "id": "db18514e-134f-47db-9cea-f59cfc5e8d26",
   "metadata": {},
   "outputs": [],
   "source": [
    "with open('./data/cemb_map.pkl', 'rb') as handle:\n",
    "    cemb_map = pkl.load(handle)\n",
    "    \n",
    "with open('./data/ctarget_map.pkl', 'rb') as handle:\n",
    "    ctarget_map = pkl.load(handle)"
   ]
  },
  {
   "cell_type": "code",
   "execution_count": 4,
   "id": "bcfb22e1-532c-4d0a-be0a-da4dbd919543",
   "metadata": {},
   "outputs": [
    {
     "data": {
      "text/plain": [
       "89033"
      ]
     },
     "execution_count": 4,
     "metadata": {},
     "output_type": "execute_result"
    }
   ],
   "source": [
    "len(cemb_map)"
   ]
  },
  {
   "cell_type": "code",
   "execution_count": 5,
   "id": "662267c9-43d3-4352-a456-f83c21f35a18",
   "metadata": {},
   "outputs": [
    {
     "data": {
      "text/plain": [
       "97992"
      ]
     },
     "execution_count": 5,
     "metadata": {},
     "output_type": "execute_result"
    }
   ],
   "source": [
    "len(ctarget_map)"
   ]
  },
  {
   "cell_type": "code",
   "execution_count": 6,
   "id": "05018ea3-1c2f-46fb-878c-f3b5eb440138",
   "metadata": {},
   "outputs": [],
   "source": [
    "keys = list(cemb_map.keys())"
   ]
  },
  {
   "cell_type": "code",
   "execution_count": 7,
   "id": "cc0bee6a-d800-4d99-a68a-3e75d3473aae",
   "metadata": {},
   "outputs": [],
   "source": [
    "for k in keys:\n",
    "    if k not in ctarget_map:\n",
    "        print(k)"
   ]
  },
  {
   "cell_type": "code",
   "execution_count": 8,
   "id": "760840ea-d315-4c88-bf81-e6c9cca338e7",
   "metadata": {},
   "outputs": [
    {
     "data": {
      "application/vnd.jupyter.widget-view+json": {
       "model_id": "fde33528bcc54efa912303785a36722a",
       "version_major": 2,
       "version_minor": 0
      },
      "text/plain": [
       "  0%|          | 0/89033 [00:00<?, ?it/s]"
      ]
     },
     "metadata": {},
     "output_type": "display_data"
    }
   ],
   "source": [
    "X, Y = [], []\n",
    "\n",
    "for key in tqdm(keys, total=len(keys)):\n",
    "    X.append(cemb_map[key])\n",
    "    Y.append(ctarget_map[key])"
   ]
  },
  {
   "cell_type": "code",
   "execution_count": 9,
   "id": "1eaaa6fd-3588-4e93-9c13-702980eb75bd",
   "metadata": {},
   "outputs": [],
   "source": [
    "X = np.array(X)\n",
    "Y = np.array(Y)"
   ]
  },
  {
   "cell_type": "code",
   "execution_count": 10,
   "id": "2d7ffc7a-de0d-48e9-ad0f-bb5a635481a3",
   "metadata": {},
   "outputs": [
    {
     "data": {
      "text/plain": [
       "(89033, 512)"
      ]
     },
     "execution_count": 10,
     "metadata": {},
     "output_type": "execute_result"
    }
   ],
   "source": [
    "X.shape"
   ]
  },
  {
   "cell_type": "code",
   "execution_count": 11,
   "id": "274b686f-d336-4ebf-a320-b5c3b02054b6",
   "metadata": {},
   "outputs": [
    {
     "data": {
      "text/plain": [
       "(89033, 512)"
      ]
     },
     "execution_count": 11,
     "metadata": {},
     "output_type": "execute_result"
    }
   ],
   "source": [
    "Y.shape"
   ]
  },
  {
   "cell_type": "code",
   "execution_count": 12,
   "id": "e612035c-27e3-4b22-b955-5ce96b69f509",
   "metadata": {},
   "outputs": [],
   "source": [
    "from sklearn.model_selection import train_test_split"
   ]
  },
  {
   "cell_type": "code",
   "execution_count": 13,
   "id": "ff414c3e-c9a1-422f-8ff0-8ea566e311e1",
   "metadata": {},
   "outputs": [],
   "source": [
    "X_train, X_test, y_train, y_test = train_test_split(X, Y, test_size=0.2, random_state=42)"
   ]
  },
  {
   "cell_type": "code",
   "execution_count": 14,
   "id": "9880ad47-2980-4489-bed1-2985fd86ed2a",
   "metadata": {},
   "outputs": [],
   "source": [
    "from sklearn.preprocessing import StandardScaler"
   ]
  },
  {
   "cell_type": "code",
   "execution_count": 15,
   "id": "b5c3ca48-69a6-492e-afdd-e60f59c1cb67",
   "metadata": {},
   "outputs": [
    {
     "data": {
      "text/plain": [
       "StandardScaler()"
      ]
     },
     "execution_count": 15,
     "metadata": {},
     "output_type": "execute_result"
    }
   ],
   "source": [
    "scaler = StandardScaler()\n",
    "scaler.fit(X_train)"
   ]
  },
  {
   "cell_type": "code",
   "execution_count": 16,
   "id": "4ce0693a-69fb-47b3-a63b-9fa539dbd078",
   "metadata": {},
   "outputs": [],
   "source": [
    "X_train = scaler.transform(X_train)\n",
    "X_test = scaler.transform(X_test)"
   ]
  },
  {
   "cell_type": "code",
   "execution_count": 17,
   "id": "8de58d09-efea-4230-8813-746d49cc4a9c",
   "metadata": {},
   "outputs": [],
   "source": [
    "with open('./data/scaler.pkl', 'wb') as handle:\n",
    "    pkl.dump(scaler, handle, protocol=3)"
   ]
  },
  {
   "cell_type": "code",
   "execution_count": 18,
   "id": "9445e3c3-39b1-47f0-a0a0-3f23cf656b11",
   "metadata": {},
   "outputs": [],
   "source": [
    "BATCH_SIZE = 1"
   ]
  },
  {
   "cell_type": "code",
   "execution_count": 19,
   "id": "e98072f4-e7b1-4d2d-b0a9-156c8f8fc299",
   "metadata": {},
   "outputs": [
    {
     "data": {
      "text/plain": [
       "<PrefetchDataset element_spec=(TensorSpec(shape=(None, 512), dtype=tf.float32, name=None), TensorSpec(shape=(None, 512), dtype=tf.float32, name=None))>"
      ]
     },
     "execution_count": 19,
     "metadata": {},
     "output_type": "execute_result"
    }
   ],
   "source": [
    "fold_train_loss = []\n",
    "fold_val_loss = []\n",
    "\n",
    "train_dataset = tf.data.Dataset.from_tensor_slices((X_train, y_train))\n",
    "val_dataset = tf.data.Dataset.from_tensor_slices((X_test, y_test))\n",
    "\n",
    "train_dataset = train_dataset.batch(BATCH_SIZE)\n",
    "val_dataset = val_dataset.batch(64)\n",
    "\n",
    "train_dataset.prefetch(tf.data.AUTOTUNE)\n",
    "val_dataset.prefetch(tf.data.AUTOTUNE)"
   ]
  },
  {
   "cell_type": "code",
   "execution_count": 20,
   "id": "0273f577-a4f5-40e6-b6cd-7bfd48e1e0a3",
   "metadata": {},
   "outputs": [],
   "source": [
    "def build_and_compile_model():\n",
    "    model = keras.Sequential([\n",
    "        tf.keras.layers.InputLayer(\n",
    "        input_shape=(X_train.shape[1],)),\n",
    "        layers.Dense(25, activation='relu'),\n",
    "        layers.Dense(12, activation='relu'),\n",
    "        layers.Dense(12, activation='relu'),\n",
    "        layers.Dense(12, activation='relu'),\n",
    "        layers.Dense(512, activation='linear')\n",
    "    ])\n",
    "\n",
    "    model.compile(loss='mean_squared_error',\n",
    "                optimizer=tf.keras.optimizers.SGD(0.01))\n",
    "    return model"
   ]
  },
  {
   "cell_type": "code",
   "execution_count": 21,
   "id": "47eaff3a-3cee-4122-969c-c3ba3aa4e6a6",
   "metadata": {},
   "outputs": [
    {
     "name": "stdout",
     "output_type": "stream",
     "text": [
      "Model: \"sequential\"\n",
      "_________________________________________________________________\n",
      " Layer (type)                Output Shape              Param #   \n",
      "=================================================================\n",
      " dense (Dense)               (None, 25)                12825     \n",
      "                                                                 \n",
      " dense_1 (Dense)             (None, 12)                312       \n",
      "                                                                 \n",
      " dense_2 (Dense)             (None, 12)                156       \n",
      "                                                                 \n",
      " dense_3 (Dense)             (None, 12)                156       \n",
      "                                                                 \n",
      " dense_4 (Dense)             (None, 512)               6656      \n",
      "                                                                 \n",
      "=================================================================\n",
      "Total params: 20,105\n",
      "Trainable params: 20,105\n",
      "Non-trainable params: 0\n",
      "_________________________________________________________________\n"
     ]
    }
   ],
   "source": [
    "keras.backend.clear_session()\n",
    "dnn = build_and_compile_model()\n",
    "dnn.summary()"
   ]
  },
  {
   "cell_type": "code",
   "execution_count": 22,
   "id": "414695d9-a6df-4db5-8147-80dca8815350",
   "metadata": {
    "scrolled": true,
    "tags": []
   },
   "outputs": [
    {
     "name": "stdout",
     "output_type": "stream",
     "text": [
      "Epoch 1/2\n",
      "71226/71226 [==============================] - 259s 4ms/step - loss: 0.0011 - val_loss: 6.2314e-04\n",
      "Epoch 2/2\n",
      "71226/71226 [==============================] - 261s 4ms/step - loss: 6.0596e-04 - val_loss: 5.9705e-04\n"
     ]
    }
   ],
   "source": [
    "history = dnn.fit(\n",
    "    train_dataset,\n",
    "    validation_data=val_dataset,\n",
    "    verbose=1, epochs=2, workers=1, shuffle=True)"
   ]
  },
  {
   "cell_type": "code",
   "execution_count": 23,
   "id": "4b736752-b391-419d-bf15-9f2708a3776c",
   "metadata": {},
   "outputs": [
    {
     "name": "stdout",
     "output_type": "stream",
     "text": [
      "INFO:tensorflow:Assets written to: ./models/model1\\assets\n"
     ]
    }
   ],
   "source": [
    "dnn.save('./models/model1')"
   ]
  },
  {
   "cell_type": "code",
   "execution_count": 24,
   "id": "9efc085e-00a0-4fcc-b92c-d2c88c19113f",
   "metadata": {},
   "outputs": [],
   "source": [
    "idx = 3"
   ]
  },
  {
   "cell_type": "code",
   "execution_count": 25,
   "id": "7e6219cd-18b4-4e5a-8eda-fae9244788a6",
   "metadata": {},
   "outputs": [],
   "source": [
    "pred = dnn.predict(X_test[idx].reshape(1,-1))"
   ]
  },
  {
   "cell_type": "code",
   "execution_count": 26,
   "id": "4371ec20-7d6d-468d-8973-06f6d583bb78",
   "metadata": {},
   "outputs": [],
   "source": [
    "L = tf.keras.losses.CosineSimilarity(axis=-1)"
   ]
  },
  {
   "cell_type": "code",
   "execution_count": 27,
   "id": "7cfcfec7-3fbe-45f4-bf06-b04e920b99ac",
   "metadata": {},
   "outputs": [
    {
     "data": {
      "text/plain": [
       "<tf.Tensor: shape=(), dtype=float32, numpy=-0.87329555>"
      ]
     },
     "execution_count": 27,
     "metadata": {},
     "output_type": "execute_result"
    }
   ],
   "source": [
    "L(y_test[idx].reshape(1,-1), pred)"
   ]
  },
  {
   "cell_type": "code",
   "execution_count": 28,
   "id": "bb4b6b6b-d042-4bd9-952b-90d9f0b9277e",
   "metadata": {},
   "outputs": [
    {
     "data": {
      "text/plain": [
       "array([-0.03160512,  0.07280831, -0.06266174, -0.05880021,  0.04643148,\n",
       "        0.05251106,  0.06651811,  0.07934297,  0.08166718, -0.03080929],\n",
       "      dtype=float32)"
      ]
     },
     "execution_count": 28,
     "metadata": {},
     "output_type": "execute_result"
    }
   ],
   "source": [
    "y_test[idx][:10]"
   ]
  },
  {
   "cell_type": "code",
   "execution_count": 29,
   "id": "865a259c-8e71-4524-842f-4b3d4503f31b",
   "metadata": {},
   "outputs": [
    {
     "data": {
      "text/plain": [
       "array([-0.04759209,  0.04022962, -0.02809096, -0.00954398,  0.02968043,\n",
       "        0.02860958,  0.03878016,  0.0705606 ,  0.06684647, -0.01625933],\n",
       "      dtype=float32)"
      ]
     },
     "execution_count": 29,
     "metadata": {},
     "output_type": "execute_result"
    }
   ],
   "source": [
    "pred[0][:10]"
   ]
  },
  {
   "cell_type": "code",
   "execution_count": null,
   "id": "d38b9824-fb1a-4e47-9212-07591bb53d2c",
   "metadata": {},
   "outputs": [],
   "source": []
  }
 ],
 "metadata": {
  "kernelspec": {
   "display_name": "Python 3 (ipykernel)",
   "language": "python",
   "name": "python3"
  },
  "language_info": {
   "codemirror_mode": {
    "name": "ipython",
    "version": 3
   },
   "file_extension": ".py",
   "mimetype": "text/x-python",
   "name": "python",
   "nbconvert_exporter": "python",
   "pygments_lexer": "ipython3",
   "version": "3.9.7"
  }
 },
 "nbformat": 4,
 "nbformat_minor": 5
}
