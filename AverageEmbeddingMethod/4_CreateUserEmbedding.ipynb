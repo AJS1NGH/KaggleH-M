{
 "cells": [
  {
   "cell_type": "markdown",
   "id": "5250fef8-08f9-4284-b664-ad214dee60ae",
   "metadata": {},
   "source": [
    "### Creates user embeddings for customers"
   ]
  },
  {
   "cell_type": "code",
   "execution_count": 1,
   "id": "4abede52-9960-41a2-bb38-0193a546bcd4",
   "metadata": {},
   "outputs": [],
   "source": [
    "import pandas as pd, os, numpy as np\n",
    "import plotly.express as px\n",
    "pd.options.display.max_columns = 50\n",
    "import swifter, datetime, pickle as pkl\n",
    "import tensorflow_hub as hub\n",
    "from tqdm.notebook import tqdm"
   ]
  },
  {
   "cell_type": "code",
   "execution_count": 2,
   "id": "799c6217-32fe-4ff1-86ac-e3aeb2c6c918",
   "metadata": {},
   "outputs": [],
   "source": [
    "df = pd.read_parquet('./data/train.parquet')"
   ]
  },
  {
   "cell_type": "code",
   "execution_count": 3,
   "id": "db18514e-134f-47db-9cea-f59cfc5e8d26",
   "metadata": {},
   "outputs": [],
   "source": [
    "with open('./data/emb_map.pkl', 'rb') as handle:\n",
    "    emb_map = pkl.load(handle)"
   ]
  },
  {
   "cell_type": "code",
   "execution_count": 4,
   "id": "5b414884-9cd5-4b05-8168-426c8c58f40a",
   "metadata": {},
   "outputs": [],
   "source": [
    "d_end = datetime.datetime(2019, 9, 22).date()"
   ]
  },
  {
   "cell_type": "code",
   "execution_count": 5,
   "id": "8a263edb-fb9a-4147-b722-29a899c0e1bf",
   "metadata": {},
   "outputs": [],
   "source": [
    "trdf = df[(df['date'] <= d_end)].reset_index(drop=True).copy()"
   ]
  },
  {
   "cell_type": "code",
   "execution_count": 6,
   "id": "fc1e13f5-8d23-4db8-8364-c91d2a8a3338",
   "metadata": {},
   "outputs": [
    {
     "data": {
      "text/plain": [
       "(16889901, 13)"
      ]
     },
     "execution_count": 6,
     "metadata": {},
     "output_type": "execute_result"
    }
   ],
   "source": [
    "trdf.shape"
   ]
  },
  {
   "cell_type": "code",
   "execution_count": 7,
   "id": "776cc608-92b5-4721-806f-90b0c3379a4f",
   "metadata": {},
   "outputs": [],
   "source": [
    "with open('./data/cust_bought.pkl', 'rb') as handle:\n",
    "    cb = pkl.load(handle)"
   ]
  },
  {
   "cell_type": "code",
   "execution_count": 8,
   "id": "a99670c3-f33c-4c4e-92ba-73d0b1cef2b8",
   "metadata": {},
   "outputs": [],
   "source": [
    "cbs = set(cb)"
   ]
  },
  {
   "cell_type": "code",
   "execution_count": 9,
   "id": "f2869714-20c0-45e1-96c2-77d7c9b78864",
   "metadata": {},
   "outputs": [],
   "source": [
    "trdf = trdf[trdf['cust_id'].isin(cbs)].reset_index(drop=True).copy()"
   ]
  },
  {
   "cell_type": "code",
   "execution_count": 10,
   "id": "33831982-827e-4680-ae54-d987eacd4fa4",
   "metadata": {},
   "outputs": [
    {
     "data": {
      "text/plain": [
       "(3502676, 13)"
      ]
     },
     "execution_count": 10,
     "metadata": {},
     "output_type": "execute_result"
    }
   ],
   "source": [
    "trdf.shape"
   ]
  },
  {
   "cell_type": "code",
   "execution_count": 11,
   "id": "be0ef0a4-142b-4c41-8411-9f0a4cbb6004",
   "metadata": {},
   "outputs": [
    {
     "data": {
      "text/plain": [
       "89033"
      ]
     },
     "execution_count": 11,
     "metadata": {},
     "output_type": "execute_result"
    }
   ],
   "source": [
    "trdf['cust_id'].nunique()"
   ]
  },
  {
   "cell_type": "code",
   "execution_count": 12,
   "id": "5c9c87fb-c564-46fd-bbcd-5f0b001a6a8e",
   "metadata": {},
   "outputs": [
    {
     "data": {
      "text/plain": [
       "97992"
      ]
     },
     "execution_count": 12,
     "metadata": {},
     "output_type": "execute_result"
    }
   ],
   "source": [
    "len(cbs)"
   ]
  },
  {
   "cell_type": "code",
   "execution_count": 18,
   "id": "ec929cb5-a3f6-4a97-a875-a076b1b6a794",
   "metadata": {},
   "outputs": [],
   "source": [
    "trdf.sort_values(['cust_id', 'date'], ascending=[True, True], inplace=True)"
   ]
  },
  {
   "cell_type": "code",
   "execution_count": 20,
   "id": "d56e610c-3ec5-4f80-bdc6-fe0b3742d17c",
   "metadata": {},
   "outputs": [],
   "source": [
    "cids = trdf['cust_id'].unique()\n",
    "cgroups = trdf[['article_id', 'cust_id']].groupby('cust_id')"
   ]
  },
  {
   "cell_type": "code",
   "execution_count": 21,
   "id": "a80ec0f1-c0b3-4f82-acb4-5027468110a7",
   "metadata": {},
   "outputs": [],
   "source": [
    "cemb_map = {}"
   ]
  },
  {
   "cell_type": "code",
   "execution_count": 22,
   "id": "9fd02ed7-e579-466d-a89c-195615e7c329",
   "metadata": {},
   "outputs": [],
   "source": [
    "def moveVector(sourceVector, destinationVector, direction, magnitude = None):\n",
    "    magnitude = magnitude if magnitude is not None else 0.5\n",
    "    new_q = sourceVector + direction*magnitude*(destinationVector - sourceVector)\n",
    "    return new_q"
   ]
  },
  {
   "cell_type": "code",
   "execution_count": 23,
   "id": "8f203311-a541-47eb-863f-b874f8bb014f",
   "metadata": {},
   "outputs": [],
   "source": [
    "#x = A\n",
    "#x = A + 0.5(B-A) = 0.5A + 0.5B\n",
    "#x = 0.5A + 0.5B + 0.5(C - (0.5A + 0.5B)) = 0.5A +0.5B + 0.5(C-0.5A-0.5B) = 0.5A + 0.5B + 0.5C -.25A -0.25B = 0.25A + 0.25B + 0.5C"
   ]
  },
  {
   "cell_type": "code",
   "execution_count": 25,
   "id": "43efe784-418f-4dac-bab8-4a7d9e61904e",
   "metadata": {},
   "outputs": [],
   "source": [
    "def getCustEmb(purchases):\n",
    "    statevector = None\n",
    "    for i, v in enumerate(purchases):\n",
    "        if i == 0:\n",
    "            statevector = v\n",
    "        else:\n",
    "            statevector = moveVector(statevector, v, direction=1, magnitude=0.5)\n",
    "    \n",
    "    statevector = statevector / np.linalg.norm(statevector)\n",
    "    return statevector"
   ]
  },
  {
   "cell_type": "code",
   "execution_count": 26,
   "id": "6647dc54-1901-40fb-991b-c88364a41bd1",
   "metadata": {},
   "outputs": [
    {
     "data": {
      "application/vnd.jupyter.widget-view+json": {
       "model_id": "7b585f69a9c04e44944b3d0089407f7d",
       "version_major": 2,
       "version_minor": 0
      },
      "text/plain": [
       "  0%|          | 0/89033 [00:00<?, ?it/s]"
      ]
     },
     "metadata": {},
     "output_type": "display_data"
    }
   ],
   "source": [
    "all_embs = []\n",
    "for cid in tqdm(cids, total=len(cids)):\n",
    "    curr_group = cgroups.get_group(cid)\n",
    "    keys = curr_group['article_id'].values\n",
    "    embs = [emb_map[x] for x in keys]\n",
    "    embs = np.array(embs)\n",
    "    cemb = getCustEmb(embs)\n",
    "    all_embs.append(cemb)\n",
    "    cemb_map[cid] = cemb"
   ]
  },
  {
   "cell_type": "code",
   "execution_count": 28,
   "id": "2304599d-b71a-4648-9930-17f437c28bc3",
   "metadata": {},
   "outputs": [
    {
     "data": {
      "text/plain": [
       "89033"
      ]
     },
     "execution_count": 28,
     "metadata": {},
     "output_type": "execute_result"
    }
   ],
   "source": [
    "len(all_embs)"
   ]
  },
  {
   "cell_type": "code",
   "execution_count": 29,
   "id": "6deb0220-1db3-4c8d-b402-67904c27f9c3",
   "metadata": {},
   "outputs": [],
   "source": [
    "with open('./data/cemb_map.pkl', 'wb') as handle:\n",
    "    pkl.dump(cemb_map, handle, protocol=3)"
   ]
  },
  {
   "cell_type": "code",
   "execution_count": null,
   "id": "760840ea-d315-4c88-bf81-e6c9cca338e7",
   "metadata": {},
   "outputs": [],
   "source": []
  }
 ],
 "metadata": {
  "kernelspec": {
   "display_name": "Python 3 (ipykernel)",
   "language": "python",
   "name": "python3"
  },
  "language_info": {
   "codemirror_mode": {
    "name": "ipython",
    "version": 3
   },
   "file_extension": ".py",
   "mimetype": "text/x-python",
   "name": "python",
   "nbconvert_exporter": "python",
   "pygments_lexer": "ipython3",
   "version": "3.9.7"
  }
 },
 "nbformat": 4,
 "nbformat_minor": 5
}
