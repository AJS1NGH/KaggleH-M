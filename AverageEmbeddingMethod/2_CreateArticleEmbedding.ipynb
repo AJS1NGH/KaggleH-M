{
 "cells": [
  {
   "cell_type": "markdown",
   "id": "56b154ee-a990-442b-9157-1e399f21d88a",
   "metadata": {},
   "source": [
    "Creates article embeddings for all articles"
   ]
  },
  {
   "cell_type": "code",
   "execution_count": 1,
   "id": "4abede52-9960-41a2-bb38-0193a546bcd4",
   "metadata": {},
   "outputs": [],
   "source": [
    "import pandas as pd, os, numpy as np\n",
    "import plotly.express as px\n",
    "pd.options.display.max_columns = 50\n",
    "import swifter, datetime, pickle as pkl\n",
    "import tensorflow_hub as hub\n",
    "from tqdm.notebook import tqdm"
   ]
  },
  {
   "cell_type": "code",
   "execution_count": 2,
   "id": "799c6217-32fe-4ff1-86ac-e3aeb2c6c918",
   "metadata": {},
   "outputs": [],
   "source": [
    "adf = pd.read_parquet('./data/articles.parquet')"
   ]
  },
  {
   "cell_type": "code",
   "execution_count": 3,
   "id": "79929117-db58-4955-89df-2b7e2807c3d5",
   "metadata": {},
   "outputs": [
    {
     "data": {
      "text/html": [
       "<div>\n",
       "<style scoped>\n",
       "    .dataframe tbody tr th:only-of-type {\n",
       "        vertical-align: middle;\n",
       "    }\n",
       "\n",
       "    .dataframe tbody tr th {\n",
       "        vertical-align: top;\n",
       "    }\n",
       "\n",
       "    .dataframe thead th {\n",
       "        text-align: right;\n",
       "    }\n",
       "</style>\n",
       "<table border=\"1\" class=\"dataframe\">\n",
       "  <thead>\n",
       "    <tr style=\"text-align: right;\">\n",
       "      <th></th>\n",
       "      <th>article_id</th>\n",
       "      <th>product_code</th>\n",
       "      <th>prod_name</th>\n",
       "      <th>product_type_no</th>\n",
       "      <th>product_type_name</th>\n",
       "      <th>product_group_name</th>\n",
       "      <th>graphical_appearance_name</th>\n",
       "      <th>colour_group_name</th>\n",
       "      <th>perceived_colour_value_name</th>\n",
       "      <th>perceived_colour_master_name</th>\n",
       "      <th>department_no</th>\n",
       "      <th>department_name</th>\n",
       "      <th>index_name</th>\n",
       "      <th>index_group_name</th>\n",
       "      <th>section_no</th>\n",
       "      <th>section_name</th>\n",
       "      <th>garment_group_name</th>\n",
       "      <th>detail_desc</th>\n",
       "    </tr>\n",
       "  </thead>\n",
       "  <tbody>\n",
       "    <tr>\n",
       "      <th>0</th>\n",
       "      <td>108775015</td>\n",
       "      <td>108775</td>\n",
       "      <td>Strap top</td>\n",
       "      <td>253</td>\n",
       "      <td>Vest top</td>\n",
       "      <td>Garment Upper body</td>\n",
       "      <td>Solid</td>\n",
       "      <td>Black</td>\n",
       "      <td>Dark</td>\n",
       "      <td>Black</td>\n",
       "      <td>1676</td>\n",
       "      <td>Jersey Basic</td>\n",
       "      <td>Ladieswear</td>\n",
       "      <td>Ladieswear</td>\n",
       "      <td>16</td>\n",
       "      <td>Womens Everyday Basics</td>\n",
       "      <td>Jersey Basic</td>\n",
       "      <td>Jersey top with narrow shoulder straps.</td>\n",
       "    </tr>\n",
       "  </tbody>\n",
       "</table>\n",
       "</div>"
      ],
      "text/plain": [
       "   article_id  product_code  prod_name  product_type_no product_type_name  \\\n",
       "0   108775015        108775  Strap top              253          Vest top   \n",
       "\n",
       "   product_group_name graphical_appearance_name colour_group_name  \\\n",
       "0  Garment Upper body                     Solid             Black   \n",
       "\n",
       "  perceived_colour_value_name perceived_colour_master_name  department_no  \\\n",
       "0                        Dark                        Black           1676   \n",
       "\n",
       "  department_name  index_name index_group_name  section_no  \\\n",
       "0    Jersey Basic  Ladieswear       Ladieswear          16   \n",
       "\n",
       "             section_name garment_group_name  \\\n",
       "0  Womens Everyday Basics       Jersey Basic   \n",
       "\n",
       "                               detail_desc  \n",
       "0  Jersey top with narrow shoulder straps.  "
      ]
     },
     "execution_count": 3,
     "metadata": {},
     "output_type": "execute_result"
    }
   ],
   "source": [
    "adf.head(1)"
   ]
  },
  {
   "cell_type": "code",
   "execution_count": 4,
   "id": "95ddf741-ae26-4478-9201-edf0c32c413e",
   "metadata": {},
   "outputs": [],
   "source": [
    "adf['detail_desc'].fillna('no description given', inplace=True)"
   ]
  },
  {
   "cell_type": "code",
   "execution_count": 5,
   "id": "77941bd1-08b0-4c53-b714-a000083d0b6f",
   "metadata": {},
   "outputs": [
    {
     "data": {
      "text/plain": [
       "Dark            42706\n",
       "Dusty Light     22152\n",
       "Light           15739\n",
       "Medium Dusty    12630\n",
       "Bright           6471\n",
       "Medium           5711\n",
       "Undefined         105\n",
       "Unknown            28\n",
       "Name: perceived_colour_value_name, dtype: int64"
      ]
     },
     "execution_count": 5,
     "metadata": {},
     "output_type": "execute_result"
    }
   ],
   "source": [
    "adf['perceived_colour_value_name'].value_counts().head(20)"
   ]
  },
  {
   "cell_type": "code",
   "execution_count": 6,
   "id": "5d3233c8-7c68-458e-b047-3293c25eacf5",
   "metadata": {},
   "outputs": [
    {
     "data": {
      "text/plain": [
       "Jersey Fancy                     21445\n",
       "Accessories                      11519\n",
       "Jersey Basic                      8126\n",
       "Knitwear                          7490\n",
       "Under-, Nightwear                 7441\n",
       "Trousers                          6727\n",
       "Blouses                           5838\n",
       "Shoes                             5145\n",
       "Dresses Ladies                    4874\n",
       "Outdoor                           4501\n",
       "Unknown                           3873\n",
       "Trousers Denim                    3100\n",
       "Swimwear                          2787\n",
       "Socks and Tights                  2272\n",
       "Shirts                            2116\n",
       "Woven/Jersey/Knitted mix Baby     1965\n",
       "Shorts                            1559\n",
       "Dresses/Skirts girls              1541\n",
       "Skirts                            1254\n",
       "Special Offers                    1061\n",
       "Name: garment_group_name, dtype: int64"
      ]
     },
     "execution_count": 6,
     "metadata": {},
     "output_type": "execute_result"
    }
   ],
   "source": [
    "adf['garment_group_name'].value_counts().head(20)"
   ]
  },
  {
   "cell_type": "code",
   "execution_count": 7,
   "id": "8034e3ee-2f06-446a-9dbd-118c63bb7b37",
   "metadata": {},
   "outputs": [
    {
     "data": {
      "text/html": [
       "<div>\n",
       "<style scoped>\n",
       "    .dataframe tbody tr th:only-of-type {\n",
       "        vertical-align: middle;\n",
       "    }\n",
       "\n",
       "    .dataframe tbody tr th {\n",
       "        vertical-align: top;\n",
       "    }\n",
       "\n",
       "    .dataframe thead th {\n",
       "        text-align: right;\n",
       "    }\n",
       "</style>\n",
       "<table border=\"1\" class=\"dataframe\">\n",
       "  <thead>\n",
       "    <tr style=\"text-align: right;\">\n",
       "      <th></th>\n",
       "      <th>article_id</th>\n",
       "      <th>product_code</th>\n",
       "      <th>prod_name</th>\n",
       "      <th>product_type_no</th>\n",
       "      <th>product_type_name</th>\n",
       "      <th>product_group_name</th>\n",
       "      <th>graphical_appearance_name</th>\n",
       "      <th>colour_group_name</th>\n",
       "      <th>perceived_colour_value_name</th>\n",
       "      <th>perceived_colour_master_name</th>\n",
       "      <th>department_no</th>\n",
       "      <th>department_name</th>\n",
       "      <th>index_name</th>\n",
       "      <th>index_group_name</th>\n",
       "      <th>section_no</th>\n",
       "      <th>section_name</th>\n",
       "      <th>garment_group_name</th>\n",
       "      <th>detail_desc</th>\n",
       "    </tr>\n",
       "  </thead>\n",
       "  <tbody>\n",
       "    <tr>\n",
       "      <th>0</th>\n",
       "      <td>108775015</td>\n",
       "      <td>108775</td>\n",
       "      <td>Strap top</td>\n",
       "      <td>253</td>\n",
       "      <td>Vest top</td>\n",
       "      <td>Garment Upper body</td>\n",
       "      <td>Solid</td>\n",
       "      <td>Black</td>\n",
       "      <td>Dark</td>\n",
       "      <td>Black</td>\n",
       "      <td>1676</td>\n",
       "      <td>Jersey Basic</td>\n",
       "      <td>Ladieswear</td>\n",
       "      <td>Ladieswear</td>\n",
       "      <td>16</td>\n",
       "      <td>Womens Everyday Basics</td>\n",
       "      <td>Jersey Basic</td>\n",
       "      <td>Jersey top with narrow shoulder straps.</td>\n",
       "    </tr>\n",
       "    <tr>\n",
       "      <th>1</th>\n",
       "      <td>108775044</td>\n",
       "      <td>108775</td>\n",
       "      <td>Strap top</td>\n",
       "      <td>253</td>\n",
       "      <td>Vest top</td>\n",
       "      <td>Garment Upper body</td>\n",
       "      <td>Solid</td>\n",
       "      <td>White</td>\n",
       "      <td>Light</td>\n",
       "      <td>White</td>\n",
       "      <td>1676</td>\n",
       "      <td>Jersey Basic</td>\n",
       "      <td>Ladieswear</td>\n",
       "      <td>Ladieswear</td>\n",
       "      <td>16</td>\n",
       "      <td>Womens Everyday Basics</td>\n",
       "      <td>Jersey Basic</td>\n",
       "      <td>Jersey top with narrow shoulder straps.</td>\n",
       "    </tr>\n",
       "    <tr>\n",
       "      <th>2</th>\n",
       "      <td>108775051</td>\n",
       "      <td>108775</td>\n",
       "      <td>Strap top (1)</td>\n",
       "      <td>253</td>\n",
       "      <td>Vest top</td>\n",
       "      <td>Garment Upper body</td>\n",
       "      <td>Stripe</td>\n",
       "      <td>Off White</td>\n",
       "      <td>Dusty Light</td>\n",
       "      <td>White</td>\n",
       "      <td>1676</td>\n",
       "      <td>Jersey Basic</td>\n",
       "      <td>Ladieswear</td>\n",
       "      <td>Ladieswear</td>\n",
       "      <td>16</td>\n",
       "      <td>Womens Everyday Basics</td>\n",
       "      <td>Jersey Basic</td>\n",
       "      <td>Jersey top with narrow shoulder straps.</td>\n",
       "    </tr>\n",
       "    <tr>\n",
       "      <th>3</th>\n",
       "      <td>110065001</td>\n",
       "      <td>110065</td>\n",
       "      <td>OP T-shirt (Idro)</td>\n",
       "      <td>306</td>\n",
       "      <td>Bra</td>\n",
       "      <td>Underwear</td>\n",
       "      <td>Solid</td>\n",
       "      <td>Black</td>\n",
       "      <td>Dark</td>\n",
       "      <td>Black</td>\n",
       "      <td>1339</td>\n",
       "      <td>Clean Lingerie</td>\n",
       "      <td>Lingeries/Tights</td>\n",
       "      <td>Ladieswear</td>\n",
       "      <td>61</td>\n",
       "      <td>Womens Lingerie</td>\n",
       "      <td>Under-, Nightwear</td>\n",
       "      <td>Microfibre T-shirt bra with underwired, moulde...</td>\n",
       "    </tr>\n",
       "    <tr>\n",
       "      <th>4</th>\n",
       "      <td>110065002</td>\n",
       "      <td>110065</td>\n",
       "      <td>OP T-shirt (Idro)</td>\n",
       "      <td>306</td>\n",
       "      <td>Bra</td>\n",
       "      <td>Underwear</td>\n",
       "      <td>Solid</td>\n",
       "      <td>White</td>\n",
       "      <td>Light</td>\n",
       "      <td>White</td>\n",
       "      <td>1339</td>\n",
       "      <td>Clean Lingerie</td>\n",
       "      <td>Lingeries/Tights</td>\n",
       "      <td>Ladieswear</td>\n",
       "      <td>61</td>\n",
       "      <td>Womens Lingerie</td>\n",
       "      <td>Under-, Nightwear</td>\n",
       "      <td>Microfibre T-shirt bra with underwired, moulde...</td>\n",
       "    </tr>\n",
       "  </tbody>\n",
       "</table>\n",
       "</div>"
      ],
      "text/plain": [
       "   article_id  product_code          prod_name  product_type_no  \\\n",
       "0   108775015        108775          Strap top              253   \n",
       "1   108775044        108775          Strap top              253   \n",
       "2   108775051        108775      Strap top (1)              253   \n",
       "3   110065001        110065  OP T-shirt (Idro)              306   \n",
       "4   110065002        110065  OP T-shirt (Idro)              306   \n",
       "\n",
       "  product_type_name  product_group_name graphical_appearance_name  \\\n",
       "0          Vest top  Garment Upper body                     Solid   \n",
       "1          Vest top  Garment Upper body                     Solid   \n",
       "2          Vest top  Garment Upper body                    Stripe   \n",
       "3               Bra           Underwear                     Solid   \n",
       "4               Bra           Underwear                     Solid   \n",
       "\n",
       "  colour_group_name perceived_colour_value_name perceived_colour_master_name  \\\n",
       "0             Black                        Dark                        Black   \n",
       "1             White                       Light                        White   \n",
       "2         Off White                 Dusty Light                        White   \n",
       "3             Black                        Dark                        Black   \n",
       "4             White                       Light                        White   \n",
       "\n",
       "   department_no department_name        index_name index_group_name  \\\n",
       "0           1676    Jersey Basic        Ladieswear       Ladieswear   \n",
       "1           1676    Jersey Basic        Ladieswear       Ladieswear   \n",
       "2           1676    Jersey Basic        Ladieswear       Ladieswear   \n",
       "3           1339  Clean Lingerie  Lingeries/Tights       Ladieswear   \n",
       "4           1339  Clean Lingerie  Lingeries/Tights       Ladieswear   \n",
       "\n",
       "   section_no            section_name garment_group_name  \\\n",
       "0          16  Womens Everyday Basics       Jersey Basic   \n",
       "1          16  Womens Everyday Basics       Jersey Basic   \n",
       "2          16  Womens Everyday Basics       Jersey Basic   \n",
       "3          61         Womens Lingerie  Under-, Nightwear   \n",
       "4          61         Womens Lingerie  Under-, Nightwear   \n",
       "\n",
       "                                         detail_desc  \n",
       "0            Jersey top with narrow shoulder straps.  \n",
       "1            Jersey top with narrow shoulder straps.  \n",
       "2            Jersey top with narrow shoulder straps.  \n",
       "3  Microfibre T-shirt bra with underwired, moulde...  \n",
       "4  Microfibre T-shirt bra with underwired, moulde...  "
      ]
     },
     "execution_count": 7,
     "metadata": {},
     "output_type": "execute_result"
    }
   ],
   "source": [
    "adf.head()"
   ]
  },
  {
   "cell_type": "code",
   "execution_count": 8,
   "id": "c89f9bc1-14fb-49e2-81e2-20e072e8e6d8",
   "metadata": {},
   "outputs": [],
   "source": [
    "adf['prod_desc_custom'] = adf['detail_desc'] + '. It has a ' + adf['graphical_appearance_name'] + ' print on it.' + ' It has a ' + \\\n",
    "                        adf['perceived_colour_value_name'] + ' ' +  adf['colour_group_name'] + ' colour.'"
   ]
  },
  {
   "cell_type": "code",
   "execution_count": 9,
   "id": "a638c366-68d7-4626-a4b3-3d26f3b3c676",
   "metadata": {},
   "outputs": [],
   "source": [
    "# adf['prod_desc_custom'] = adf['product_type_name'] + ' named as ' + adf['prod_name'] + '. It has a ' + adf['graphical_appearance_name'] + ' print on it.' + ' It has a ' + \\\n",
    "#                         adf['perceived_colour_value_name'] + ' ' +  adf['colour_group_name'] + ' colour'\\\n",
    "#                         '. It is from the ' + adf['index_name'] + ' group and ' + adf['garment_group_name'] + ', ' + \\\n",
    "#                         adf['section_name'] + ' section. Description: ' + adf['detail_desc']"
   ]
  },
  {
   "cell_type": "code",
   "execution_count": 10,
   "id": "3173cc1f-d788-4a4d-a6c6-b0d8ad396cae",
   "metadata": {},
   "outputs": [
    {
     "data": {
      "text/plain": [
       "'Checked scarf in a soft wool weave with fringes along the short sides. Size 45x185 cm.. It has a Check print on it. It has a Medium Yellow colour.'"
      ]
     },
     "execution_count": 10,
     "metadata": {},
     "output_type": "execute_result"
    }
   ],
   "source": [
    "adf['prod_desc_custom'].iloc[np.random.randint(low=0, high=len(adf) - 1)]"
   ]
  },
  {
   "cell_type": "code",
   "execution_count": 11,
   "id": "ea28bfe5-31ef-42c5-8c03-b31617bf8ef2",
   "metadata": {},
   "outputs": [
    {
     "data": {
      "text/plain": [
       "0"
      ]
     },
     "execution_count": 11,
     "metadata": {},
     "output_type": "execute_result"
    }
   ],
   "source": [
    "adf['prod_desc_custom'].isna().sum()"
   ]
  },
  {
   "cell_type": "code",
   "execution_count": 12,
   "id": "01f7d68b-05d2-4edb-b036-1cb11fb87786",
   "metadata": {},
   "outputs": [],
   "source": [
    "model = hub.load(\"https://tfhub.dev/google/universal-sentence-encoder/4\")"
   ]
  },
  {
   "cell_type": "code",
   "execution_count": 13,
   "id": "cabca23d-d0a3-4d05-b4d0-14b43308aff8",
   "metadata": {},
   "outputs": [],
   "source": [
    "# adf['prod_desc_custom'] = adf['prod_desc_custom'].astype(str)"
   ]
  },
  {
   "cell_type": "code",
   "execution_count": 14,
   "id": "e8ab3fc9-b04e-492a-88a9-0c062402f377",
   "metadata": {},
   "outputs": [],
   "source": [
    "xx = model(['testing query'])"
   ]
  },
  {
   "cell_type": "code",
   "execution_count": 15,
   "id": "57d9e21e-0bce-4d47-8378-cf16a35a2163",
   "metadata": {},
   "outputs": [],
   "source": [
    "texts = adf['prod_desc_custom'].values.tolist()"
   ]
  },
  {
   "cell_type": "code",
   "execution_count": 16,
   "id": "7bda49dc-27f3-4d22-a3c1-b2588d00f9a2",
   "metadata": {},
   "outputs": [],
   "source": [
    "# calculates end index for a particular iteration for looping through documents in batches\n",
    "def calcEndIdx(start_idx, batch_size, ndocs):\n",
    "    end_idx = start_idx + batch_size\n",
    "    end_idx = ndocs if end_idx > ndocs - 1 else end_idx\n",
    "    return end_idx"
   ]
  },
  {
   "cell_type": "code",
   "execution_count": 17,
   "id": "7831d5a4-3648-43da-8ee4-c3f8f41f9f17",
   "metadata": {},
   "outputs": [
    {
     "data": {
      "application/vnd.jupyter.widget-view+json": {
       "model_id": "df079097613842c897247c6db8d7f443",
       "version_major": 2,
       "version_minor": 0
      },
      "text/plain": [
       "  0%|          | 0/1650 [00:00<?, ?it/s]"
      ]
     },
     "metadata": {},
     "output_type": "display_data"
    }
   ],
   "source": [
    "embeddings = [] # empty array to store embeddings as we iterate through docs\n",
    "BATCH_SIZE = 64\n",
    "NUM_DOCS = len(texts)\n",
    "\n",
    "for start_idx in tqdm(range(0, NUM_DOCS, BATCH_SIZE)):\n",
    "    end_idx = calcEndIdx(start_idx, BATCH_SIZE, NUM_DOCS)\n",
    "    curr_embeddings = model(texts[start_idx:end_idx]).numpy()\n",
    "    embeddings.append(curr_embeddings)\n",
    "    \n",
    "embeddings = np.concatenate(embeddings) # convert batched arrays to shape (N, Vector Size)"
   ]
  },
  {
   "cell_type": "code",
   "execution_count": 18,
   "id": "daf5e4fd-3c9d-4ab8-8ecb-21a51fd1ae51",
   "metadata": {},
   "outputs": [
    {
     "data": {
      "text/plain": [
       "105542"
      ]
     },
     "execution_count": 18,
     "metadata": {},
     "output_type": "execute_result"
    }
   ],
   "source": [
    "len(texts)"
   ]
  },
  {
   "cell_type": "code",
   "execution_count": 19,
   "id": "bf26b60d-43d7-4fd0-ae0b-88f96c417cab",
   "metadata": {},
   "outputs": [],
   "source": [
    "aids = adf['article_id'].values"
   ]
  },
  {
   "cell_type": "code",
   "execution_count": 20,
   "id": "07f840f5-2566-428e-8ac1-2acb3b8c5b3b",
   "metadata": {},
   "outputs": [],
   "source": [
    "emb_map = {}\n",
    "for i in range(len(texts)):\n",
    "    emb = embeddings[i]\n",
    "    emb_map[aids[i]] = emb"
   ]
  },
  {
   "cell_type": "code",
   "execution_count": 21,
   "id": "fdaf957a-8ef2-458f-8846-ef3541960f09",
   "metadata": {},
   "outputs": [
    {
     "data": {
      "text/plain": [
       "105542"
      ]
     },
     "execution_count": 21,
     "metadata": {},
     "output_type": "execute_result"
    }
   ],
   "source": [
    "len(emb_map)"
   ]
  },
  {
   "cell_type": "code",
   "execution_count": 22,
   "id": "3a31f800-96be-4536-9d70-7b3b424565a3",
   "metadata": {},
   "outputs": [
    {
     "data": {
      "text/plain": [
       "105542"
      ]
     },
     "execution_count": 22,
     "metadata": {},
     "output_type": "execute_result"
    }
   ],
   "source": [
    "len(aids)"
   ]
  },
  {
   "cell_type": "code",
   "execution_count": 23,
   "id": "34bff9d4-2633-489a-bd5d-0c7da4c5e0bc",
   "metadata": {},
   "outputs": [],
   "source": [
    "with open('./data/emb_map.pkl', 'wb') as handle:\n",
    "    pkl.dump(emb_map, handle, protocol=3)"
   ]
  },
  {
   "cell_type": "code",
   "execution_count": null,
   "id": "20d523c0-3209-420c-9d75-6173620f804e",
   "metadata": {},
   "outputs": [],
   "source": []
  }
 ],
 "metadata": {
  "kernelspec": {
   "display_name": "Python 3 (ipykernel)",
   "language": "python",
   "name": "python3"
  },
  "language_info": {
   "codemirror_mode": {
    "name": "ipython",
    "version": 3
   },
   "file_extension": ".py",
   "mimetype": "text/x-python",
   "name": "python",
   "nbconvert_exporter": "python",
   "pygments_lexer": "ipython3",
   "version": "3.9.7"
  }
 },
 "nbformat": 4,
 "nbformat_minor": 5
}
