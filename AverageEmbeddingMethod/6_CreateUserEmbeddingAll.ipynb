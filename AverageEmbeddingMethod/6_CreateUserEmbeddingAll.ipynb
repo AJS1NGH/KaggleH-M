{
 "cells": [
  {
   "cell_type": "markdown",
   "id": "0ca03cef-88d1-4419-bd55-6595a5c82749",
   "metadata": {},
   "source": [
    "Creates user embeddings for all users who have made atleast 1 purchase in training data"
   ]
  },
  {
   "cell_type": "code",
   "execution_count": 1,
   "id": "4abede52-9960-41a2-bb38-0193a546bcd4",
   "metadata": {},
   "outputs": [],
   "source": [
    "import pandas as pd, os, numpy as np\n",
    "import plotly.express as px\n",
    "pd.options.display.max_columns = 50\n",
    "import swifter, datetime, pickle as pkl\n",
    "import tensorflow_hub as hub\n",
    "from tqdm.notebook import tqdm"
   ]
  },
  {
   "cell_type": "code",
   "execution_count": 2,
   "id": "799c6217-32fe-4ff1-86ac-e3aeb2c6c918",
   "metadata": {},
   "outputs": [],
   "source": [
    "df = pd.read_parquet('./data/train.parquet')"
   ]
  },
  {
   "cell_type": "code",
   "execution_count": 3,
   "id": "db18514e-134f-47db-9cea-f59cfc5e8d26",
   "metadata": {},
   "outputs": [],
   "source": [
    "with open('./data/emb_map.pkl', 'rb') as handle:\n",
    "    emb_map = pkl.load(handle)"
   ]
  },
  {
   "cell_type": "code",
   "execution_count": 4,
   "id": "e6a5944a-36dd-464b-aaf2-5041ec604374",
   "metadata": {},
   "outputs": [],
   "source": [
    "df.sort_values(['cust_id', 'date'], ascending=[True, True], inplace=True)"
   ]
  },
  {
   "cell_type": "code",
   "execution_count": 5,
   "id": "d56e610c-3ec5-4f80-bdc6-fe0b3742d17c",
   "metadata": {},
   "outputs": [],
   "source": [
    "cids = df['cust_id'].unique()\n",
    "cgroups = df[['article_id', 'cust_id']].groupby('cust_id')"
   ]
  },
  {
   "cell_type": "code",
   "execution_count": 6,
   "id": "a80ec0f1-c0b3-4f82-acb4-5027468110a7",
   "metadata": {},
   "outputs": [],
   "source": [
    "all_cemb_map = {}"
   ]
  },
  {
   "cell_type": "code",
   "execution_count": 7,
   "id": "9c77faa0-1647-41cd-a1d4-eb99efbbf791",
   "metadata": {},
   "outputs": [],
   "source": [
    "def moveVector(sourceVector, destinationVector, direction, magnitude = None):\n",
    "    magnitude = magnitude if magnitude is not None else 0.5\n",
    "    new_q = sourceVector + direction*magnitude*(destinationVector - sourceVector)\n",
    "    return new_q"
   ]
  },
  {
   "cell_type": "code",
   "execution_count": 8,
   "id": "2ed566f4-0eaa-4272-a545-faa7c1317dc0",
   "metadata": {},
   "outputs": [],
   "source": [
    "def getCustEmb(purchases):\n",
    "    statevector = None\n",
    "    for i, v in enumerate(purchases):\n",
    "        if i == 0:\n",
    "            statevector = v\n",
    "        else:\n",
    "            statevector = moveVector(statevector, v, direction=1, magnitude=0.5)\n",
    "    statevector = statevector / np.linalg.norm(statevector)        \n",
    "    return statevector"
   ]
  },
  {
   "cell_type": "code",
   "execution_count": 9,
   "id": "6647dc54-1901-40fb-991b-c88364a41bd1",
   "metadata": {},
   "outputs": [
    {
     "data": {
      "application/vnd.jupyter.widget-view+json": {
       "model_id": "8f7dad2984884d29b37e6515d786ad53",
       "version_major": 2,
       "version_minor": 0
      },
      "text/plain": [
       "  0%|          | 0/1362281 [00:00<?, ?it/s]"
      ]
     },
     "metadata": {},
     "output_type": "display_data"
    }
   ],
   "source": [
    "all_embs = []\n",
    "for cid in tqdm(cids, total=len(cids)):\n",
    "    curr_group = cgroups.get_group(cid)\n",
    "    keys = curr_group['article_id'].values\n",
    "    embs = [emb_map[x] for x in keys]\n",
    "    embs = np.array(embs)\n",
    "    cemb = getCustEmb(embs)\n",
    "    all_embs.append(cemb)\n",
    "    all_cemb_map[cid] = cemb"
   ]
  },
  {
   "cell_type": "code",
   "execution_count": 10,
   "id": "6deb0220-1db3-4c8d-b402-67904c27f9c3",
   "metadata": {},
   "outputs": [],
   "source": [
    "with open('./data/all_cemb_map.pkl', 'wb') as handle:\n",
    "    pkl.dump(all_cemb_map, handle, protocol=3)"
   ]
  },
  {
   "cell_type": "code",
   "execution_count": null,
   "id": "760840ea-d315-4c88-bf81-e6c9cca338e7",
   "metadata": {},
   "outputs": [],
   "source": []
  }
 ],
 "metadata": {
  "kernelspec": {
   "display_name": "Python 3 (ipykernel)",
   "language": "python",
   "name": "python3"
  },
  "language_info": {
   "codemirror_mode": {
    "name": "ipython",
    "version": 3
   },
   "file_extension": ".py",
   "mimetype": "text/x-python",
   "name": "python",
   "nbconvert_exporter": "python",
   "pygments_lexer": "ipython3",
   "version": "3.9.7"
  }
 },
 "nbformat": 4,
 "nbformat_minor": 5
}
