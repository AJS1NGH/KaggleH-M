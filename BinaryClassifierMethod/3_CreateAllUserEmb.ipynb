{
 "cells": [
  {
   "cell_type": "markdown",
   "id": "4996cd10-f144-4375-bd01-a041798dd04b",
   "metadata": {},
   "source": [
    "Create embeddings for all users"
   ]
  },
  {
   "cell_type": "code",
   "execution_count": 1,
   "id": "4abede52-9960-41a2-bb38-0193a546bcd4",
   "metadata": {},
   "outputs": [],
   "source": [
    "import pandas as pd, os, numpy as np\n",
    "import plotly.express as px\n",
    "pd.options.display.max_columns = 50\n",
    "import swifter, datetime, pickle as pkl\n",
    "import tensorflow_hub as hub\n",
    "from tqdm.notebook import tqdm"
   ]
  },
  {
   "cell_type": "code",
   "execution_count": 2,
   "id": "799c6217-32fe-4ff1-86ac-e3aeb2c6c918",
   "metadata": {},
   "outputs": [],
   "source": [
    "df = pd.read_parquet('../data/train.parquet')"
   ]
  },
  {
   "cell_type": "code",
   "execution_count": 3,
   "id": "db18514e-134f-47db-9cea-f59cfc5e8d26",
   "metadata": {},
   "outputs": [],
   "source": [
    "with open('../data/emb_map.pkl', 'rb') as handle:\n",
    "    emb_map = pkl.load(handle)"
   ]
  },
  {
   "cell_type": "code",
   "execution_count": 4,
   "id": "9074acfe-fb42-4187-999d-16eccb831c14",
   "metadata": {},
   "outputs": [],
   "source": [
    "df.sort_values(['cust_id', 'date'], ascending=[True, True], inplace=True)"
   ]
  },
  {
   "cell_type": "code",
   "execution_count": 5,
   "id": "d56e610c-3ec5-4f80-bdc6-fe0b3742d17c",
   "metadata": {},
   "outputs": [],
   "source": [
    "cids = df['cust_id'].unique()\n",
    "cgroups = df[['article_id', 'cust_id']].groupby('cust_id')"
   ]
  },
  {
   "cell_type": "code",
   "execution_count": 6,
   "id": "a80ec0f1-c0b3-4f82-acb4-5027468110a7",
   "metadata": {},
   "outputs": [],
   "source": [
    "cemb_map = {}"
   ]
  },
  {
   "cell_type": "code",
   "execution_count": 7,
   "id": "9fd02ed7-e579-466d-a89c-195615e7c329",
   "metadata": {},
   "outputs": [],
   "source": [
    "def moveVector(sourceVector, destinationVector, direction, magnitude = None):\n",
    "    magnitude = magnitude if magnitude is not None else 0.5\n",
    "    new_q = sourceVector + direction*magnitude*(destinationVector - sourceVector)\n",
    "    return new_q"
   ]
  },
  {
   "cell_type": "code",
   "execution_count": 8,
   "id": "8f203311-a541-47eb-863f-b874f8bb014f",
   "metadata": {},
   "outputs": [],
   "source": [
    "#x = A\n",
    "#x = A + 0.5(B-A) = 0.5A + 0.5B\n",
    "#x = 0.5A + 0.5B + 0.5(C - (0.5A + 0.5B)) = 0.5A +0.5B + 0.5(C-0.5A-0.5B) = 0.5A + 0.5B + 0.5C -.25A -0.25B = 0.25A + 0.25B + 0.5C"
   ]
  },
  {
   "cell_type": "code",
   "execution_count": 9,
   "id": "43efe784-418f-4dac-bab8-4a7d9e61904e",
   "metadata": {},
   "outputs": [],
   "source": [
    "def getCustEmb(purchases):\n",
    "    statevector = None\n",
    "    for i, v in enumerate(purchases):\n",
    "        if i == 0:\n",
    "            statevector = v\n",
    "        else:\n",
    "            statevector = moveVector(statevector, v, direction=1, magnitude=0.5)\n",
    "    \n",
    "    statevector = statevector / np.linalg.norm(statevector)\n",
    "    return statevector"
   ]
  },
  {
   "cell_type": "code",
   "execution_count": 10,
   "id": "6647dc54-1901-40fb-991b-c88364a41bd1",
   "metadata": {},
   "outputs": [
    {
     "data": {
      "application/vnd.jupyter.widget-view+json": {
       "model_id": "a1709342cadd4aa4b559d43f79904349",
       "version_major": 2,
       "version_minor": 0
      },
      "text/plain": [
       "  0%|          | 0/1362281 [00:00<?, ?it/s]"
      ]
     },
     "metadata": {},
     "output_type": "display_data"
    }
   ],
   "source": [
    "all_embs = []\n",
    "for cid in tqdm(cids, total=len(cids)):\n",
    "    curr_group = cgroups.get_group(cid)\n",
    "    keys = curr_group['article_id'].values\n",
    "    embs = [emb_map[x] for x in keys]\n",
    "    embs = np.array(embs)\n",
    "    cemb = getCustEmb(embs)\n",
    "    all_embs.append(cemb)\n",
    "    cemb_map[cid] = cemb"
   ]
  },
  {
   "cell_type": "code",
   "execution_count": 11,
   "id": "2304599d-b71a-4648-9930-17f437c28bc3",
   "metadata": {},
   "outputs": [
    {
     "data": {
      "text/plain": [
       "1362281"
      ]
     },
     "execution_count": 11,
     "metadata": {},
     "output_type": "execute_result"
    }
   ],
   "source": [
    "len(all_embs)"
   ]
  },
  {
   "cell_type": "code",
   "execution_count": 12,
   "id": "6deb0220-1db3-4c8d-b402-67904c27f9c3",
   "metadata": {},
   "outputs": [],
   "source": [
    "with open('../data/all_cemb_map.pkl', 'wb') as handle:\n",
    "    pkl.dump(cemb_map, handle, protocol=3)"
   ]
  },
  {
   "cell_type": "code",
   "execution_count": null,
   "id": "760840ea-d315-4c88-bf81-e6c9cca338e7",
   "metadata": {},
   "outputs": [],
   "source": []
  }
 ],
 "metadata": {
  "kernelspec": {
   "display_name": "Python 3 (ipykernel)",
   "language": "python",
   "name": "python3"
  },
  "language_info": {
   "codemirror_mode": {
    "name": "ipython",
    "version": 3
   },
   "file_extension": ".py",
   "mimetype": "text/x-python",
   "name": "python",
   "nbconvert_exporter": "python",
   "pygments_lexer": "ipython3",
   "version": "3.9.7"
  }
 },
 "nbformat": 4,
 "nbformat_minor": 5
}
