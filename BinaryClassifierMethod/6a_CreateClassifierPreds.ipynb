{
 "cells": [
  {
   "cell_type": "markdown",
   "id": "f29f846a-8800-4b89-8238-8e2f5e003095",
   "metadata": {},
   "source": [
    "Generates the classier predictions for users"
   ]
  },
  {
   "cell_type": "markdown",
   "id": "432d9b50-ba35-45a8-8dc8-ede70249cfd9",
   "metadata": {
    "tags": []
   },
   "source": [
    "### Plan\n",
    "\n",
    "Candidate Generation:\n",
    "1. Generate candidates that that customer has bought in the last 1 month\n",
    "2. Generate candidates that are the most popular last month\n",
    "3. Generate random sampled candidates that have no overlap to above 2"
   ]
  },
  {
   "cell_type": "code",
   "execution_count": 1,
   "id": "5660ec03-6f44-43e3-8948-46ffc27036dc",
   "metadata": {},
   "outputs": [],
   "source": [
    "import pandas as pd, os, numpy as np\n",
    "import plotly.express as px\n",
    "pd.options.display.max_columns = 50\n",
    "import swifter, datetime, pickle as pkl\n",
    "from tqdm.notebook import tqdm"
   ]
  },
  {
   "cell_type": "code",
   "execution_count": 2,
   "id": "718e0840-4122-4c79-838e-8735a40fa314",
   "metadata": {},
   "outputs": [],
   "source": [
    "from tensorflow import keras\n",
    "from tensorflow.keras import layers\n",
    "import tensorflow as tf\n",
    "import tensorflow_addons as tfa\n",
    "from tensorflow.keras import regularizers"
   ]
  },
  {
   "cell_type": "code",
   "execution_count": null,
   "id": "62ed7390-f3f5-4dd8-b049-ec0372037313",
   "metadata": {},
   "outputs": [],
   "source": [
    "model = keras.models.load_model('../models/dnn1')"
   ]
  },
  {
   "cell_type": "code",
   "execution_count": 4,
   "id": "5bafbfa2-4cfb-4d11-9360-2b1548707335",
   "metadata": {},
   "outputs": [],
   "source": [
    "tdf = pd.read_parquet('../data/train.parquet')"
   ]
  },
  {
   "cell_type": "markdown",
   "id": "8b36bd55-5e19-4a3d-a6c8-8f4330da6941",
   "metadata": {},
   "source": [
    "### Get top-k most popular items last month"
   ]
  },
  {
   "cell_type": "code",
   "execution_count": 5,
   "id": "4ebadade-ec1c-45a9-8008-c0b07685a1bd",
   "metadata": {},
   "outputs": [],
   "source": [
    "# predicting what they bought next week (so train on data before this)\n",
    "d_start = datetime.datetime(2020, 9, 1).date()\n",
    "tdf = tdf[tdf['date'] >= d_start].reset_index(drop=True).copy()"
   ]
  },
  {
   "cell_type": "code",
   "execution_count": 6,
   "id": "f92367a7-e023-4f2d-8aee-4177a7b8c926",
   "metadata": {},
   "outputs": [],
   "source": [
    "dd = tdf[['cust_id', 'article_id']].drop_duplicates().copy()"
   ]
  },
  {
   "cell_type": "code",
   "execution_count": 7,
   "id": "e7e40e3e-ca76-4f8b-b9cb-326142f968e7",
   "metadata": {},
   "outputs": [],
   "source": [
    "dd = dd['article_id'].value_counts().reset_index().copy()"
   ]
  },
  {
   "cell_type": "code",
   "execution_count": 8,
   "id": "f133e902-d315-45a1-8067-9cdc98bc5740",
   "metadata": {},
   "outputs": [
    {
     "data": {
      "text/plain": [
       "(26252, 2)"
      ]
     },
     "execution_count": 8,
     "metadata": {},
     "output_type": "execute_result"
    }
   ],
   "source": [
    "dd.shape"
   ]
  },
  {
   "cell_type": "code",
   "execution_count": 9,
   "id": "1152f9df-2ae6-415f-b445-2d74ee9f29d8",
   "metadata": {},
   "outputs": [],
   "source": [
    "top_20_most_purchased = dd['index'].values[:20]"
   ]
  },
  {
   "cell_type": "code",
   "execution_count": 10,
   "id": "9ba1c8a3-3616-4401-8ec4-81f2b473b0fe",
   "metadata": {},
   "outputs": [
    {
     "data": {
      "text/plain": [
       "array([751471001, 918522001, 909370001, 915526001, 918292001, 915529003,\n",
       "       924243001, 751471043, 448509014, 706016001, 863595006, 865799006,\n",
       "       898694001, 673677002, 896152002, 762846027, 714790020, 863583001,\n",
       "       762846031, 850917001], dtype=int64)"
      ]
     },
     "execution_count": 10,
     "metadata": {},
     "output_type": "execute_result"
    }
   ],
   "source": [
    "top_20_most_purchased"
   ]
  },
  {
   "cell_type": "code",
   "execution_count": 11,
   "id": "b991269b-13c6-4ffb-8d5c-4a775a8af1f9",
   "metadata": {},
   "outputs": [],
   "source": [
    "most_purchased = dd['index'].values[20:200]"
   ]
  },
  {
   "cell_type": "markdown",
   "id": "38d49ad2-11ce-402c-a290-2b4ab474b994",
   "metadata": {},
   "source": [
    "### Load Articles Embeddings Map"
   ]
  },
  {
   "cell_type": "code",
   "execution_count": 12,
   "id": "9683ee5c-d9c3-4673-9f3d-c4b160c3bad1",
   "metadata": {},
   "outputs": [],
   "source": [
    "with open('../data/emb_map.pkl', 'rb') as handle:\n",
    "    adf_dict = pkl.load(handle)"
   ]
  },
  {
   "cell_type": "markdown",
   "id": "112f9946-4a7d-41bc-9c27-4f8010dba8d2",
   "metadata": {},
   "source": [
    "### Load Customer embeddings"
   ]
  },
  {
   "cell_type": "code",
   "execution_count": 13,
   "id": "3030891d-0d8d-49e4-918a-ce5dd9eb3a6d",
   "metadata": {},
   "outputs": [],
   "source": [
    "with open('../data/all_cemb_map.pkl', 'rb') as handle:\n",
    "    c_dict = pkl.load(handle)"
   ]
  },
  {
   "cell_type": "code",
   "execution_count": 14,
   "id": "934c4b66-f084-414e-82de-b08786b27c00",
   "metadata": {},
   "outputs": [],
   "source": [
    "all_products = tdf['article_id'].unique()\n",
    "all_custs = tdf['cust_id'].unique()"
   ]
  },
  {
   "cell_type": "markdown",
   "id": "57e15480-2e25-4e89-8141-fc28dc6f427c",
   "metadata": {
    "tags": []
   },
   "source": [
    "### Create a df to compute each customers' last 12 bought products"
   ]
  },
  {
   "cell_type": "code",
   "execution_count": 15,
   "id": "a1147976-f094-409e-b8b6-7db4ec14f241",
   "metadata": {},
   "outputs": [],
   "source": [
    "tdf = tdf.groupby([\"cust_id\"])[\"article_id\"].agg(\n",
    "    lambda x: list(x.values[np.sort(np.unique(x.values, return_index=True)[1])])[-12:]).reset_index()"
   ]
  },
  {
   "cell_type": "code",
   "execution_count": 16,
   "id": "f80d0820-ff91-439c-9178-4165b15510ef",
   "metadata": {},
   "outputs": [
    {
     "data": {
      "text/html": [
       "<div>\n",
       "<style scoped>\n",
       "    .dataframe tbody tr th:only-of-type {\n",
       "        vertical-align: middle;\n",
       "    }\n",
       "\n",
       "    .dataframe tbody tr th {\n",
       "        vertical-align: top;\n",
       "    }\n",
       "\n",
       "    .dataframe thead th {\n",
       "        text-align: right;\n",
       "    }\n",
       "</style>\n",
       "<table border=\"1\" class=\"dataframe\">\n",
       "  <thead>\n",
       "    <tr style=\"text-align: right;\">\n",
       "      <th></th>\n",
       "      <th>cust_id</th>\n",
       "      <th>article_id</th>\n",
       "    </tr>\n",
       "  </thead>\n",
       "  <tbody>\n",
       "    <tr>\n",
       "      <th>0</th>\n",
       "      <td>0</td>\n",
       "      <td>[568601043]</td>\n",
       "    </tr>\n",
       "    <tr>\n",
       "      <th>1</th>\n",
       "      <td>2</td>\n",
       "      <td>[794321007]</td>\n",
       "    </tr>\n",
       "    <tr>\n",
       "      <th>2</th>\n",
       "      <td>6</td>\n",
       "      <td>[719530003, 448509014]</td>\n",
       "    </tr>\n",
       "    <tr>\n",
       "      <th>3</th>\n",
       "      <td>30</td>\n",
       "      <td>[685814001]</td>\n",
       "    </tr>\n",
       "    <tr>\n",
       "      <th>4</th>\n",
       "      <td>38</td>\n",
       "      <td>[777148006, 835801001, 923134005, 865929003, 5...</td>\n",
       "    </tr>\n",
       "  </tbody>\n",
       "</table>\n",
       "</div>"
      ],
      "text/plain": [
       "   cust_id                                         article_id\n",
       "0        0                                        [568601043]\n",
       "1        2                                        [794321007]\n",
       "2        6                             [719530003, 448509014]\n",
       "3       30                                        [685814001]\n",
       "4       38  [777148006, 835801001, 923134005, 865929003, 5..."
      ]
     },
     "execution_count": 16,
     "metadata": {},
     "output_type": "execute_result"
    }
   ],
   "source": [
    "tdf.head()"
   ]
  },
  {
   "cell_type": "code",
   "execution_count": 17,
   "id": "e5a2f6e2-6990-42fb-ab54-6ec47317cd19",
   "metadata": {},
   "outputs": [],
   "source": [
    "bdf_dict = tdf.set_index('cust_id')['article_id'].to_dict()"
   ]
  },
  {
   "cell_type": "markdown",
   "id": "78446978-a93e-4a09-ad0c-f31c5b150c39",
   "metadata": {},
   "source": [
    "### Create Data"
   ]
  },
  {
   "cell_type": "code",
   "execution_count": 18,
   "id": "138469e6-9136-45c4-9819-dfecd94e1199",
   "metadata": {},
   "outputs": [],
   "source": [
    "def getArticleFeatures(aid):\n",
    "    return adf_dict[aid]\n",
    "\n",
    "def getCustomerFeatures(cid):\n",
    "    return c_dict[cid]\n",
    "\n",
    "def getRandomSample(exclude, n):\n",
    "    positives = set(getPositiveSamples(cid))\n",
    "    num_valid = len(avail_articles) - len(positives)\n",
    "    p = np.array([0 if x in positives else 1 for x in avail_articles])\n",
    "    p = p/sum(p)\n",
    "    negatives = np.random.choice(avail_articles, n, replace=False, p=p)\n",
    "    return negatives\n",
    "    "
   ]
  },
  {
   "cell_type": "code",
   "execution_count": 19,
   "id": "5b1cf6ba-1be1-474e-b9e5-254e265b94fa",
   "metadata": {
    "scrolled": true,
    "tags": []
   },
   "outputs": [
    {
     "data": {
      "application/vnd.jupyter.widget-view+json": {
       "model_id": "62df0f92db244a7981e578ae3ecc4fe1",
       "version_major": 2,
       "version_minor": 0
      },
      "text/plain": [
       "  0%|          | 0/189510 [00:00<?, ?it/s]"
      ]
     },
     "metadata": {},
     "output_type": "display_data"
    }
   ],
   "source": [
    "P,A,C = [], [], []\n",
    "for cid in tqdm(all_custs, total=len(all_custs)):\n",
    "    X = []\n",
    "    c_feats = getCustomerFeatures(cid)\n",
    "    seen_candidates = set()\n",
    "    \n",
    "    for aid in top_20_most_purchased:\n",
    "        a_feats = getArticleFeatures(aid)\n",
    "        combined_feats = np.concatenate((c_feats, a_feats))\n",
    "        X.append(combined_feats)\n",
    "        C.append(cid)\n",
    "        A.append(aid)\n",
    "        seen_candidates.add(aid)\n",
    "    \n",
    "    last_purchases = bdf_dict[cid]\n",
    "    \n",
    "    for aid in last_purchases:\n",
    "        if aid in seen_candidates:\n",
    "            continue\n",
    "            \n",
    "        a_feats = getArticleFeatures(aid)\n",
    "        combined_feats = np.concatenate((c_feats, a_feats))\n",
    "        X.append(combined_feats)\n",
    "        C.append(cid)\n",
    "        A.append(aid)\n",
    "        seen_candidates.add(aid)\n",
    "        \n",
    "    p = np.array([0 if x in seen_candidates else 1 for x in most_purchased])\n",
    "    p = p/sum(p)\n",
    "    \n",
    "    sampled_items = np.random.choice(most_purchased, 20, replace=False, p=p)\n",
    "    \n",
    "    for aid in sampled_items:\n",
    "        if aid in seen_candidates:\n",
    "            continue\n",
    "            \n",
    "        a_feats = getArticleFeatures(aid)\n",
    "        combined_feats = np.concatenate((c_feats, a_feats))\n",
    "        X.append(combined_feats)\n",
    "        C.append(cid)\n",
    "        A.append(aid)\n",
    "        seen_candidates.add(aid)\n",
    "        \n",
    "    X = np.array(X)    \n",
    "    cfx = X[:,[x for x in range(512)]]\n",
    "    afx = X[:,[x for x in range(512, 1024)]]\n",
    "    \n",
    "    preds = model.predict((cfx, afx)).flatten()\n",
    "    P += preds.tolist()"
   ]
  },
  {
   "cell_type": "code",
   "execution_count": 20,
   "id": "5e3ab1f7-c314-48f6-b83b-3e4cbe765ed5",
   "metadata": {},
   "outputs": [],
   "source": [
    "with open('../data/P.pkl', 'wb') as handle:\n",
    "    pkl.dump(P, handle, protocol=3)"
   ]
  },
  {
   "cell_type": "code",
   "execution_count": 21,
   "id": "fab68bc0-0c68-4de8-af91-6e8c2a8689a0",
   "metadata": {},
   "outputs": [],
   "source": [
    "with open('../data/A.pkl', 'wb') as handle:\n",
    "    pkl.dump(A, handle, protocol=3)"
   ]
  },
  {
   "cell_type": "code",
   "execution_count": 22,
   "id": "847110cb-e3c6-4a44-8187-a46d28acb6d3",
   "metadata": {},
   "outputs": [],
   "source": [
    "with open('../data/C.pkl', 'wb') as handle:\n",
    "    pkl.dump(C, handle, protocol=3)"
   ]
  },
  {
   "cell_type": "code",
   "execution_count": null,
   "id": "adb5c373-f198-4f87-9412-4221902c85b3",
   "metadata": {},
   "outputs": [],
   "source": []
  },
  {
   "cell_type": "code",
   "execution_count": null,
   "id": "c676b885-7d68-4b89-93cf-4e091ecb3feb",
   "metadata": {},
   "outputs": [],
   "source": []
  }
 ],
 "metadata": {
  "kernelspec": {
   "display_name": "Python 3 (ipykernel)",
   "language": "python",
   "name": "python3"
  },
  "language_info": {
   "codemirror_mode": {
    "name": "ipython",
    "version": 3
   },
   "file_extension": ".py",
   "mimetype": "text/x-python",
   "name": "python",
   "nbconvert_exporter": "python",
   "pygments_lexer": "ipython3",
   "version": "3.9.7"
  }
 },
 "nbformat": 4,
 "nbformat_minor": 5
}
