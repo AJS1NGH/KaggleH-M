{
 "cells": [
  {
   "cell_type": "markdown",
   "id": "57f5e86c-4b77-47c3-8059-3e65eadcf087",
   "metadata": {},
   "source": [
    "Fetches those customers who bought atleast 1 product in target week"
   ]
  },
  {
   "cell_type": "code",
   "execution_count": 1,
   "id": "c96c99ad-6f60-45b1-a76f-d0b1f90be6d6",
   "metadata": {},
   "outputs": [],
   "source": [
    "import pandas as pd, os, numpy as np\n",
    "import plotly.express as px\n",
    "pd.options.display.max_columns = 50\n",
    "import swifter, datetime, pickle as pkl\n",
    "import tensorflow_hub as hub\n",
    "from tqdm.notebook import tqdm"
   ]
  },
  {
   "cell_type": "markdown",
   "id": "64c80d5f-1417-46bc-90f2-940f3abbf393",
   "metadata": {},
   "source": [
    "### Objective\n",
    "\n",
    "To train the model, we need the data in the following format:\n",
    "\n",
    "Columns: [features], relevance\n",
    "\n",
    "Column Descriptions:\n",
    "2. features: features of user, product etc\n",
    "3. relevance of the product (1 = bought, 0 not bought)\n",
    "\n",
    "Breakdown to 1 user:\n",
    "\n",
    "We need to create examples of feature and relevance essentially. This basically means each row is a pairwise object.\n",
    "We need relevance to have positive samples and negative samples.\n",
    "\n",
    "Positive samples: Items the user bought\n",
    "\n",
    "Negative samples: Items the user didn't buy\n",
    "\n",
    "How to create the data then?\n",
    "\n",
    "1. Only create data for those users who bought something: i.e. get customers who bought something\n",
    "2. For each of those customers, create a list of the 12 products they bought, these are the positive samples\n",
    "3. For each of those customers, create a list of products they didn't buy, these are the negative samples\n",
    "\n",
    "Repeat above for all users."
   ]
  },
  {
   "cell_type": "markdown",
   "id": "cc14fc5e-0414-4ac6-8197-c4aee302533b",
   "metadata": {},
   "source": [
    "### Creating the samples"
   ]
  },
  {
   "cell_type": "code",
   "execution_count": 2,
   "id": "165d4930-b650-47c6-b437-e66a0cb56153",
   "metadata": {},
   "outputs": [],
   "source": [
    "df = pd.read_parquet('../data/train.parquet')"
   ]
  },
  {
   "cell_type": "code",
   "execution_count": 3,
   "id": "ce6623da-e037-4147-9745-98d96b1d184f",
   "metadata": {},
   "outputs": [],
   "source": [
    "# predicting what they bought next week (so train on data before this)\n",
    "d_end = datetime.datetime(2019, 9, 29).date()\n",
    "d_start = datetime.datetime(2019, 9, 23).date()"
   ]
  },
  {
   "cell_type": "code",
   "execution_count": 4,
   "id": "ddab1452-ac37-4e7e-998a-b30ec2d970f0",
   "metadata": {},
   "outputs": [],
   "source": [
    "tdf = df[(df['date'] >= d_start) & (df['date'] <= d_end)].reset_index(drop=True).copy()"
   ]
  },
  {
   "cell_type": "code",
   "execution_count": 5,
   "id": "ffdf62d0-3bd3-4762-9be6-d5d56c82e9dc",
   "metadata": {},
   "outputs": [],
   "source": [
    "tdf['a_count'] = tdf.groupby(['cust_id', 'article_id'])['article_id'].transform('count')"
   ]
  },
  {
   "cell_type": "code",
   "execution_count": 6,
   "id": "fbff35d1-7383-41da-8cb4-8f8fecbc86f1",
   "metadata": {},
   "outputs": [],
   "source": [
    "tdf.sort_values(['cust_id', 'date', 'a_count'], ascending=[True, False, False], inplace=True)"
   ]
  },
  {
   "cell_type": "code",
   "execution_count": 7,
   "id": "475b4032-0f05-4dc8-8e55-5bcfa26f6a47",
   "metadata": {},
   "outputs": [],
   "source": [
    "bdf = tdf.groupby([\"cust_id\"])[\"article_id\"].agg(\n",
    "    lambda x: list(x.values[np.sort(np.unique(x.values, return_index=True)[1])])).reset_index()"
   ]
  },
  {
   "cell_type": "code",
   "execution_count": 8,
   "id": "ff64b014-a96d-4748-bec9-2e8a74c408d5",
   "metadata": {},
   "outputs": [
    {
     "data": {
      "text/html": [
       "<div>\n",
       "<style scoped>\n",
       "    .dataframe tbody tr th:only-of-type {\n",
       "        vertical-align: middle;\n",
       "    }\n",
       "\n",
       "    .dataframe tbody tr th {\n",
       "        vertical-align: top;\n",
       "    }\n",
       "\n",
       "    .dataframe thead th {\n",
       "        text-align: right;\n",
       "    }\n",
       "</style>\n",
       "<table border=\"1\" class=\"dataframe\">\n",
       "  <thead>\n",
       "    <tr style=\"text-align: right;\">\n",
       "      <th></th>\n",
       "      <th>cust_id</th>\n",
       "      <th>article_id</th>\n",
       "    </tr>\n",
       "  </thead>\n",
       "  <tbody>\n",
       "    <tr>\n",
       "      <th>0</th>\n",
       "      <td>0</td>\n",
       "      <td>[797065001]</td>\n",
       "    </tr>\n",
       "    <tr>\n",
       "      <th>1</th>\n",
       "      <td>13</td>\n",
       "      <td>[693242018, 661794006, 763037004, 640176008, 6...</td>\n",
       "    </tr>\n",
       "    <tr>\n",
       "      <th>2</th>\n",
       "      <td>21</td>\n",
       "      <td>[513512003, 535035001, 677930066]</td>\n",
       "    </tr>\n",
       "    <tr>\n",
       "      <th>3</th>\n",
       "      <td>22</td>\n",
       "      <td>[805947002, 705966002, 803290002, 797710001, 7...</td>\n",
       "    </tr>\n",
       "    <tr>\n",
       "      <th>4</th>\n",
       "      <td>29</td>\n",
       "      <td>[730683003, 787558001]</td>\n",
       "    </tr>\n",
       "    <tr>\n",
       "      <th>...</th>\n",
       "      <td>...</td>\n",
       "      <td>...</td>\n",
       "    </tr>\n",
       "    <tr>\n",
       "      <th>97987</th>\n",
       "      <td>1371932</td>\n",
       "      <td>[771557002]</td>\n",
       "    </tr>\n",
       "    <tr>\n",
       "      <th>97988</th>\n",
       "      <td>1371935</td>\n",
       "      <td>[693243019, 674606045, 516903005, 718939001, 7...</td>\n",
       "    </tr>\n",
       "    <tr>\n",
       "      <th>97989</th>\n",
       "      <td>1371949</td>\n",
       "      <td>[542846003, 615959005, 685814034, 803683002, 5...</td>\n",
       "    </tr>\n",
       "    <tr>\n",
       "      <th>97990</th>\n",
       "      <td>1371956</td>\n",
       "      <td>[796240001, 833981001]</td>\n",
       "    </tr>\n",
       "    <tr>\n",
       "      <th>97991</th>\n",
       "      <td>1371977</td>\n",
       "      <td>[792782001]</td>\n",
       "    </tr>\n",
       "  </tbody>\n",
       "</table>\n",
       "<p>97992 rows × 2 columns</p>\n",
       "</div>"
      ],
      "text/plain": [
       "       cust_id                                         article_id\n",
       "0            0                                        [797065001]\n",
       "1           13  [693242018, 661794006, 763037004, 640176008, 6...\n",
       "2           21                  [513512003, 535035001, 677930066]\n",
       "3           22  [805947002, 705966002, 803290002, 797710001, 7...\n",
       "4           29                             [730683003, 787558001]\n",
       "...        ...                                                ...\n",
       "97987  1371932                                        [771557002]\n",
       "97988  1371935  [693243019, 674606045, 516903005, 718939001, 7...\n",
       "97989  1371949  [542846003, 615959005, 685814034, 803683002, 5...\n",
       "97990  1371956                             [796240001, 833981001]\n",
       "97991  1371977                                        [792782001]\n",
       "\n",
       "[97992 rows x 2 columns]"
      ]
     },
     "execution_count": 8,
     "metadata": {},
     "output_type": "execute_result"
    }
   ],
   "source": [
    "bdf"
   ]
  },
  {
   "cell_type": "code",
   "execution_count": 9,
   "id": "cb7b7855-dedd-4b81-a2bc-e475ca868f77",
   "metadata": {},
   "outputs": [],
   "source": [
    "bdf.to_parquet('../data/bought_articles_in_order.parquet')"
   ]
  },
  {
   "cell_type": "code",
   "execution_count": null,
   "id": "9ebf03e5-d71a-4c0e-baaa-e5c31a4a416a",
   "metadata": {},
   "outputs": [],
   "source": []
  }
 ],
 "metadata": {
  "kernelspec": {
   "display_name": "Python 3 (ipykernel)",
   "language": "python",
   "name": "python3"
  },
  "language_info": {
   "codemirror_mode": {
    "name": "ipython",
    "version": 3
   },
   "file_extension": ".py",
   "mimetype": "text/x-python",
   "name": "python",
   "nbconvert_exporter": "python",
   "pygments_lexer": "ipython3",
   "version": "3.9.7"
  }
 },
 "nbformat": 4,
 "nbformat_minor": 5
}
