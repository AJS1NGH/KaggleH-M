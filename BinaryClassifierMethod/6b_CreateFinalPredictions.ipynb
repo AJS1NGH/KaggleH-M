{
 "cells": [
  {
   "cell_type": "markdown",
   "id": "3e9ba530-cd3c-416d-bf8e-2680acd4e8d7",
   "metadata": {},
   "source": [
    "Creates the final prediction file to submit to kaggle"
   ]
  },
  {
   "cell_type": "code",
   "execution_count": 3,
   "id": "638398fc-87a1-4cc1-9690-f44ba958b0d4",
   "metadata": {},
   "outputs": [],
   "source": [
    "import pandas as pd, os, numpy as np\n",
    "import plotly.express as px\n",
    "pd.options.display.max_columns = 50\n",
    "import swifter\n",
    "import pickle as pkl"
   ]
  },
  {
   "cell_type": "code",
   "execution_count": 4,
   "id": "fdb5ea6b-81ff-47df-89c6-bd272cd988a2",
   "metadata": {},
   "outputs": [],
   "source": [
    "with open('../data/P.pkl', 'rb') as handle:\n",
    "    P = pkl.load(handle)"
   ]
  },
  {
   "cell_type": "code",
   "execution_count": 5,
   "id": "484a43a0-58bc-4cf7-877f-4703355e6a3f",
   "metadata": {},
   "outputs": [],
   "source": [
    "with open('../data/A.pkl', 'rb') as handle:\n",
    "    A = pkl.load(handle)"
   ]
  },
  {
   "cell_type": "code",
   "execution_count": 6,
   "id": "e74eaa7b-93ac-4520-8666-6ca1914af2ec",
   "metadata": {},
   "outputs": [],
   "source": [
    "with open('../data/C.pkl', 'rb') as handle:\n",
    "    C = pkl.load(handle)"
   ]
  },
  {
   "cell_type": "code",
   "execution_count": 8,
   "id": "b3493a89-ecb4-423d-9efc-6a6ca7a08610",
   "metadata": {},
   "outputs": [],
   "source": [
    "pdf = pd.DataFrame()\n",
    "pdf['score'] = P \n",
    "pdf['article_id'] = A\n",
    "pdf['cust_id'] = C"
   ]
  },
  {
   "cell_type": "code",
   "execution_count": 9,
   "id": "23fda78b-40d8-4206-bc64-0563434c2ce6",
   "metadata": {},
   "outputs": [
    {
     "data": {
      "text/html": [
       "<div>\n",
       "<style scoped>\n",
       "    .dataframe tbody tr th:only-of-type {\n",
       "        vertical-align: middle;\n",
       "    }\n",
       "\n",
       "    .dataframe tbody tr th {\n",
       "        vertical-align: top;\n",
       "    }\n",
       "\n",
       "    .dataframe thead th {\n",
       "        text-align: right;\n",
       "    }\n",
       "</style>\n",
       "<table border=\"1\" class=\"dataframe\">\n",
       "  <thead>\n",
       "    <tr style=\"text-align: right;\">\n",
       "      <th></th>\n",
       "      <th>score</th>\n",
       "      <th>article_id</th>\n",
       "      <th>cust_id</th>\n",
       "    </tr>\n",
       "  </thead>\n",
       "  <tbody>\n",
       "    <tr>\n",
       "      <th>0</th>\n",
       "      <td>0.917812</td>\n",
       "      <td>751471001</td>\n",
       "      <td>38</td>\n",
       "    </tr>\n",
       "    <tr>\n",
       "      <th>1</th>\n",
       "      <td>0.437557</td>\n",
       "      <td>918522001</td>\n",
       "      <td>38</td>\n",
       "    </tr>\n",
       "    <tr>\n",
       "      <th>2</th>\n",
       "      <td>0.797402</td>\n",
       "      <td>909370001</td>\n",
       "      <td>38</td>\n",
       "    </tr>\n",
       "    <tr>\n",
       "      <th>3</th>\n",
       "      <td>0.194464</td>\n",
       "      <td>915526001</td>\n",
       "      <td>38</td>\n",
       "    </tr>\n",
       "    <tr>\n",
       "      <th>4</th>\n",
       "      <td>0.914215</td>\n",
       "      <td>918292001</td>\n",
       "      <td>38</td>\n",
       "    </tr>\n",
       "  </tbody>\n",
       "</table>\n",
       "</div>"
      ],
      "text/plain": [
       "      score  article_id  cust_id\n",
       "0  0.917812   751471001       38\n",
       "1  0.437557   918522001       38\n",
       "2  0.797402   909370001       38\n",
       "3  0.194464   915526001       38\n",
       "4  0.914215   918292001       38"
      ]
     },
     "execution_count": 9,
     "metadata": {},
     "output_type": "execute_result"
    }
   ],
   "source": [
    "pdf.head()"
   ]
  },
  {
   "cell_type": "code",
   "execution_count": 10,
   "id": "3d1ae9f6-82a3-4318-b8ae-370b88601e71",
   "metadata": {},
   "outputs": [
    {
     "data": {
      "text/html": [
       "<div>\n",
       "<style scoped>\n",
       "    .dataframe tbody tr th:only-of-type {\n",
       "        vertical-align: middle;\n",
       "    }\n",
       "\n",
       "    .dataframe tbody tr th {\n",
       "        vertical-align: top;\n",
       "    }\n",
       "\n",
       "    .dataframe thead th {\n",
       "        text-align: right;\n",
       "    }\n",
       "</style>\n",
       "<table border=\"1\" class=\"dataframe\">\n",
       "  <thead>\n",
       "    <tr style=\"text-align: right;\">\n",
       "      <th></th>\n",
       "      <th>score</th>\n",
       "      <th>article_id</th>\n",
       "      <th>cust_id</th>\n",
       "    </tr>\n",
       "  </thead>\n",
       "  <tbody>\n",
       "    <tr>\n",
       "      <th>0</th>\n",
       "      <td>0.917812</td>\n",
       "      <td>751471001</td>\n",
       "      <td>38</td>\n",
       "    </tr>\n",
       "    <tr>\n",
       "      <th>1</th>\n",
       "      <td>0.437557</td>\n",
       "      <td>918522001</td>\n",
       "      <td>38</td>\n",
       "    </tr>\n",
       "    <tr>\n",
       "      <th>2</th>\n",
       "      <td>0.797402</td>\n",
       "      <td>909370001</td>\n",
       "      <td>38</td>\n",
       "    </tr>\n",
       "    <tr>\n",
       "      <th>3</th>\n",
       "      <td>0.194464</td>\n",
       "      <td>915526001</td>\n",
       "      <td>38</td>\n",
       "    </tr>\n",
       "    <tr>\n",
       "      <th>4</th>\n",
       "      <td>0.914215</td>\n",
       "      <td>918292001</td>\n",
       "      <td>38</td>\n",
       "    </tr>\n",
       "  </tbody>\n",
       "</table>\n",
       "</div>"
      ],
      "text/plain": [
       "      score  article_id  cust_id\n",
       "0  0.917812   751471001       38\n",
       "1  0.437557   918522001       38\n",
       "2  0.797402   909370001       38\n",
       "3  0.194464   915526001       38\n",
       "4  0.914215   918292001       38"
      ]
     },
     "execution_count": 10,
     "metadata": {},
     "output_type": "execute_result"
    }
   ],
   "source": [
    "pdf.head()"
   ]
  },
  {
   "cell_type": "code",
   "execution_count": 11,
   "id": "24d5c0d9-5555-467b-8caa-4e6cc366e4ff",
   "metadata": {},
   "outputs": [
    {
     "data": {
      "text/plain": [
       "(8229367, 3)"
      ]
     },
     "execution_count": 11,
     "metadata": {},
     "output_type": "execute_result"
    }
   ],
   "source": [
    "pdf.shape"
   ]
  },
  {
   "cell_type": "code",
   "execution_count": 12,
   "id": "6106b780-2a82-43aa-b6ee-770d53b120d4",
   "metadata": {},
   "outputs": [],
   "source": [
    "pdf.sort_values(['cust_id', 'score'], ascending=[True, False], inplace=True)"
   ]
  },
  {
   "cell_type": "code",
   "execution_count": 13,
   "id": "e55f2266-92b7-486c-ae6f-5d297a0dec12",
   "metadata": {},
   "outputs": [
    {
     "data": {
      "text/html": [
       "<div>\n",
       "<style scoped>\n",
       "    .dataframe tbody tr th:only-of-type {\n",
       "        vertical-align: middle;\n",
       "    }\n",
       "\n",
       "    .dataframe tbody tr th {\n",
       "        vertical-align: top;\n",
       "    }\n",
       "\n",
       "    .dataframe thead th {\n",
       "        text-align: right;\n",
       "    }\n",
       "</style>\n",
       "<table border=\"1\" class=\"dataframe\">\n",
       "  <thead>\n",
       "    <tr style=\"text-align: right;\">\n",
       "      <th></th>\n",
       "      <th>score</th>\n",
       "      <th>article_id</th>\n",
       "      <th>cust_id</th>\n",
       "    </tr>\n",
       "  </thead>\n",
       "  <tbody>\n",
       "    <tr>\n",
       "      <th>2037329</th>\n",
       "      <td>0.950921</td>\n",
       "      <td>673677002</td>\n",
       "      <td>0</td>\n",
       "    </tr>\n",
       "    <tr>\n",
       "      <th>2037325</th>\n",
       "      <td>0.947271</td>\n",
       "      <td>706016001</td>\n",
       "      <td>0</td>\n",
       "    </tr>\n",
       "    <tr>\n",
       "      <th>2037323</th>\n",
       "      <td>0.937477</td>\n",
       "      <td>751471043</td>\n",
       "      <td>0</td>\n",
       "    </tr>\n",
       "    <tr>\n",
       "      <th>2037340</th>\n",
       "      <td>0.932925</td>\n",
       "      <td>920610005</td>\n",
       "      <td>0</td>\n",
       "    </tr>\n",
       "    <tr>\n",
       "      <th>2037341</th>\n",
       "      <td>0.931342</td>\n",
       "      <td>863595004</td>\n",
       "      <td>0</td>\n",
       "    </tr>\n",
       "  </tbody>\n",
       "</table>\n",
       "</div>"
      ],
      "text/plain": [
       "            score  article_id  cust_id\n",
       "2037329  0.950921   673677002        0\n",
       "2037325  0.947271   706016001        0\n",
       "2037323  0.937477   751471043        0\n",
       "2037340  0.932925   920610005        0\n",
       "2037341  0.931342   863595004        0"
      ]
     },
     "execution_count": 13,
     "metadata": {},
     "output_type": "execute_result"
    }
   ],
   "source": [
    "pdf.head()"
   ]
  },
  {
   "cell_type": "code",
   "execution_count": 16,
   "id": "352aab46-90cf-47ac-b83e-51bfe68c5f81",
   "metadata": {},
   "outputs": [],
   "source": [
    "gdf = pdf.groupby('cust_id')['article_id'].agg(lambda x: list(x.values[:12]))"
   ]
  },
  {
   "cell_type": "code",
   "execution_count": 18,
   "id": "724f382d-7d3e-424b-857f-163d3a384f02",
   "metadata": {},
   "outputs": [
    {
     "data": {
      "text/html": [
       "<div>\n",
       "<style scoped>\n",
       "    .dataframe tbody tr th:only-of-type {\n",
       "        vertical-align: middle;\n",
       "    }\n",
       "\n",
       "    .dataframe tbody tr th {\n",
       "        vertical-align: top;\n",
       "    }\n",
       "\n",
       "    .dataframe thead th {\n",
       "        text-align: right;\n",
       "    }\n",
       "</style>\n",
       "<table border=\"1\" class=\"dataframe\">\n",
       "  <thead>\n",
       "    <tr style=\"text-align: right;\">\n",
       "      <th></th>\n",
       "      <th>score</th>\n",
       "      <th>article_id</th>\n",
       "      <th>cust_id</th>\n",
       "    </tr>\n",
       "  </thead>\n",
       "  <tbody>\n",
       "    <tr>\n",
       "      <th>2037329</th>\n",
       "      <td>0.950921</td>\n",
       "      <td>673677002</td>\n",
       "      <td>0</td>\n",
       "    </tr>\n",
       "    <tr>\n",
       "      <th>2037325</th>\n",
       "      <td>0.947271</td>\n",
       "      <td>706016001</td>\n",
       "      <td>0</td>\n",
       "    </tr>\n",
       "    <tr>\n",
       "      <th>2037323</th>\n",
       "      <td>0.937477</td>\n",
       "      <td>751471043</td>\n",
       "      <td>0</td>\n",
       "    </tr>\n",
       "    <tr>\n",
       "      <th>2037340</th>\n",
       "      <td>0.932925</td>\n",
       "      <td>920610005</td>\n",
       "      <td>0</td>\n",
       "    </tr>\n",
       "    <tr>\n",
       "      <th>2037341</th>\n",
       "      <td>0.931342</td>\n",
       "      <td>863595004</td>\n",
       "      <td>0</td>\n",
       "    </tr>\n",
       "  </tbody>\n",
       "</table>\n",
       "</div>"
      ],
      "text/plain": [
       "            score  article_id  cust_id\n",
       "2037329  0.950921   673677002        0\n",
       "2037325  0.947271   706016001        0\n",
       "2037323  0.937477   751471043        0\n",
       "2037340  0.932925   920610005        0\n",
       "2037341  0.931342   863595004        0"
      ]
     },
     "execution_count": 18,
     "metadata": {},
     "output_type": "execute_result"
    }
   ],
   "source": [
    "pdf.head()"
   ]
  },
  {
   "cell_type": "code",
   "execution_count": 22,
   "id": "137ebe1a-be21-4c38-9c9a-ffe3a508fff5",
   "metadata": {},
   "outputs": [],
   "source": [
    "gdf = gdf.reset_index().copy()"
   ]
  },
  {
   "cell_type": "code",
   "execution_count": 23,
   "id": "b138b7ee-2997-4ee1-b947-64be749e6fcc",
   "metadata": {},
   "outputs": [],
   "source": [
    "def createPredFormat(x):\n",
    "    preds_sep_f = ''\n",
    "    for i in range(len(x)):\n",
    "        val = '0' + str(x[i])\n",
    "        if i != len(x) - 1:\n",
    "            val += ' '\n",
    "        preds_sep_f += val\n",
    "    return preds_sep_f"
   ]
  },
  {
   "cell_type": "code",
   "execution_count": 24,
   "id": "0e99fc74-e49e-4fc2-803d-8fb63ba3ac71",
   "metadata": {},
   "outputs": [],
   "source": [
    "gdf['prediction'] = gdf['article_id'].apply(lambda x: createPredFormat(x))"
   ]
  },
  {
   "cell_type": "code",
   "execution_count": 26,
   "id": "8f91437a-7829-4854-99ff-719749acea0d",
   "metadata": {},
   "outputs": [],
   "source": [
    "gdf.drop('article_id', axis=1, inplace=True)"
   ]
  },
  {
   "cell_type": "code",
   "execution_count": 27,
   "id": "eb10459e-1e70-4e73-a6bf-25b6ca3ae945",
   "metadata": {},
   "outputs": [
    {
     "data": {
      "text/html": [
       "<div>\n",
       "<style scoped>\n",
       "    .dataframe tbody tr th:only-of-type {\n",
       "        vertical-align: middle;\n",
       "    }\n",
       "\n",
       "    .dataframe tbody tr th {\n",
       "        vertical-align: top;\n",
       "    }\n",
       "\n",
       "    .dataframe thead th {\n",
       "        text-align: right;\n",
       "    }\n",
       "</style>\n",
       "<table border=\"1\" class=\"dataframe\">\n",
       "  <thead>\n",
       "    <tr style=\"text-align: right;\">\n",
       "      <th></th>\n",
       "      <th>cust_id</th>\n",
       "      <th>prediction</th>\n",
       "    </tr>\n",
       "  </thead>\n",
       "  <tbody>\n",
       "    <tr>\n",
       "      <th>0</th>\n",
       "      <td>0</td>\n",
       "      <td>0673677002 0706016001 0751471043 0920610005 08...</td>\n",
       "    </tr>\n",
       "    <tr>\n",
       "      <th>1</th>\n",
       "      <td>2</td>\n",
       "      <td>0673677002 0805947001 0706016001 0751471043 07...</td>\n",
       "    </tr>\n",
       "    <tr>\n",
       "      <th>2</th>\n",
       "      <td>6</td>\n",
       "      <td>0673677002 0706016001 0797988002 0751471043 08...</td>\n",
       "    </tr>\n",
       "    <tr>\n",
       "      <th>3</th>\n",
       "      <td>30</td>\n",
       "      <td>0673677002 0805947001 0706016001 0865929007 07...</td>\n",
       "    </tr>\n",
       "    <tr>\n",
       "      <th>4</th>\n",
       "      <td>38</td>\n",
       "      <td>0673677002 0805947001 0706016001 0777148006 07...</td>\n",
       "    </tr>\n",
       "    <tr>\n",
       "      <th>...</th>\n",
       "      <td>...</td>\n",
       "      <td>...</td>\n",
       "    </tr>\n",
       "    <tr>\n",
       "      <th>189505</th>\n",
       "      <td>1371926</td>\n",
       "      <td>0673677002 0898713001 0706016001 0706016062 07...</td>\n",
       "    </tr>\n",
       "    <tr>\n",
       "      <th>189506</th>\n",
       "      <td>1371937</td>\n",
       "      <td>0673677002 0706016001 0751471043 0761269001 08...</td>\n",
       "    </tr>\n",
       "    <tr>\n",
       "      <th>189507</th>\n",
       "      <td>1371960</td>\n",
       "      <td>0673677002 0706016001 0706016062 0797988002 07...</td>\n",
       "    </tr>\n",
       "    <tr>\n",
       "      <th>189508</th>\n",
       "      <td>1371975</td>\n",
       "      <td>0673677002 0706016001 0706016062 0751471043 08...</td>\n",
       "    </tr>\n",
       "    <tr>\n",
       "      <th>189509</th>\n",
       "      <td>1371977</td>\n",
       "      <td>0673677002 0898713001 0706016001 0797988002 07...</td>\n",
       "    </tr>\n",
       "  </tbody>\n",
       "</table>\n",
       "<p>189510 rows × 2 columns</p>\n",
       "</div>"
      ],
      "text/plain": [
       "        cust_id                                         prediction\n",
       "0             0  0673677002 0706016001 0751471043 0920610005 08...\n",
       "1             2  0673677002 0805947001 0706016001 0751471043 07...\n",
       "2             6  0673677002 0706016001 0797988002 0751471043 08...\n",
       "3            30  0673677002 0805947001 0706016001 0865929007 07...\n",
       "4            38  0673677002 0805947001 0706016001 0777148006 07...\n",
       "...         ...                                                ...\n",
       "189505  1371926  0673677002 0898713001 0706016001 0706016062 07...\n",
       "189506  1371937  0673677002 0706016001 0751471043 0761269001 08...\n",
       "189507  1371960  0673677002 0706016001 0706016062 0797988002 07...\n",
       "189508  1371975  0673677002 0706016001 0706016062 0751471043 08...\n",
       "189509  1371977  0673677002 0898713001 0706016001 0797988002 07...\n",
       "\n",
       "[189510 rows x 2 columns]"
      ]
     },
     "execution_count": 27,
     "metadata": {},
     "output_type": "execute_result"
    }
   ],
   "source": [
    "gdf"
   ]
  },
  {
   "cell_type": "code",
   "execution_count": 28,
   "id": "e538b98a-6ac7-49f6-aa03-efd1d19dcf4d",
   "metadata": {},
   "outputs": [],
   "source": [
    "mfa = [751471001, 909370001, 918522001, 924243001, 918292001, 915526001,\n",
    "            448509014, 915529003, 751471043, 706016001, 865799006, 863595006,\n",
    "            850917001, 762846027, 898694001, 673677002, 714790020, 896152002,\n",
    "            863583001, 762846031, 919365008, 852584001, 923758001, 715624001]"
   ]
  },
  {
   "cell_type": "code",
   "execution_count": 29,
   "id": "a7e6681a-31c6-4adc-86fc-673d28e0f237",
   "metadata": {},
   "outputs": [],
   "source": [
    "mfa = createPredFormat(mfa)"
   ]
  },
  {
   "cell_type": "code",
   "execution_count": 31,
   "id": "994f7fc5-0d68-4707-a915-8bc36e1cb428",
   "metadata": {},
   "outputs": [],
   "source": [
    "with open('../data/cid_map.pkl', 'rb') as handle:\n",
    "    cid_map = pkl.load(handle)"
   ]
  },
  {
   "cell_type": "code",
   "execution_count": 32,
   "id": "33eb70af-c6f1-41bb-9f47-93a14e7eaebc",
   "metadata": {},
   "outputs": [
    {
     "data": {
      "text/plain": [
       "1371980"
      ]
     },
     "execution_count": 32,
     "metadata": {},
     "output_type": "execute_result"
    }
   ],
   "source": [
    "len(cid_map)"
   ]
  },
  {
   "cell_type": "code",
   "execution_count": 55,
   "id": "bd441e15-2318-4548-9377-c093db4498dd",
   "metadata": {},
   "outputs": [],
   "source": [
    "sdf = pd.read_csv('../data/sample_submission.csv')"
   ]
  },
  {
   "cell_type": "code",
   "execution_count": 56,
   "id": "5287d12f-917b-4887-abf1-f34287f2e546",
   "metadata": {},
   "outputs": [],
   "source": [
    "sdf['cust_id'] = sdf['customer_id'].apply(lambda x: cid_map[x])"
   ]
  },
  {
   "cell_type": "code",
   "execution_count": 57,
   "id": "1e5098ad-8d02-480a-988c-ff816f28e3cb",
   "metadata": {},
   "outputs": [],
   "source": [
    "sdf.drop('prediction', axis=1, inplace=True)"
   ]
  },
  {
   "cell_type": "code",
   "execution_count": 58,
   "id": "2a7de799-3f0f-401c-8e3d-6ee9dfcfd974",
   "metadata": {},
   "outputs": [],
   "source": [
    "sdf = sdf.merge(right=gdf, on='cust_id', how='left')"
   ]
  },
  {
   "cell_type": "code",
   "execution_count": 59,
   "id": "bba1ebdc-4dbe-484f-b1b0-9ee4c25398e2",
   "metadata": {},
   "outputs": [
    {
     "data": {
      "text/plain": [
       "customer_id          0\n",
       "cust_id              0\n",
       "prediction     1182470\n",
       "dtype: int64"
      ]
     },
     "execution_count": 59,
     "metadata": {},
     "output_type": "execute_result"
    }
   ],
   "source": [
    "sdf.isna().sum()"
   ]
  },
  {
   "cell_type": "code",
   "execution_count": 60,
   "id": "90d3aecd-4440-4dfe-99ce-22822238859b",
   "metadata": {},
   "outputs": [],
   "source": [
    "sdf['prediction'].fillna(mfa, inplace=True)"
   ]
  },
  {
   "cell_type": "code",
   "execution_count": 61,
   "id": "a8ad7a2d-8d70-4030-b73c-865d4c4e73ce",
   "metadata": {},
   "outputs": [
    {
     "data": {
      "text/plain": [
       "customer_id    0\n",
       "cust_id        0\n",
       "prediction     0\n",
       "dtype: int64"
      ]
     },
     "execution_count": 61,
     "metadata": {},
     "output_type": "execute_result"
    }
   ],
   "source": [
    "sdf.isna().sum()"
   ]
  },
  {
   "cell_type": "code",
   "execution_count": 62,
   "id": "12ab1578-b587-4332-9539-ba5238ff326b",
   "metadata": {},
   "outputs": [],
   "source": [
    "sdf.drop('cust_id', axis=1, inplace=True)"
   ]
  },
  {
   "cell_type": "code",
   "execution_count": 63,
   "id": "024c6e14-e939-4e69-89ea-2d3af5ed0ba2",
   "metadata": {},
   "outputs": [
    {
     "data": {
      "text/html": [
       "<div>\n",
       "<style scoped>\n",
       "    .dataframe tbody tr th:only-of-type {\n",
       "        vertical-align: middle;\n",
       "    }\n",
       "\n",
       "    .dataframe tbody tr th {\n",
       "        vertical-align: top;\n",
       "    }\n",
       "\n",
       "    .dataframe thead th {\n",
       "        text-align: right;\n",
       "    }\n",
       "</style>\n",
       "<table border=\"1\" class=\"dataframe\">\n",
       "  <thead>\n",
       "    <tr style=\"text-align: right;\">\n",
       "      <th></th>\n",
       "      <th>customer_id</th>\n",
       "      <th>prediction</th>\n",
       "    </tr>\n",
       "  </thead>\n",
       "  <tbody>\n",
       "    <tr>\n",
       "      <th>0</th>\n",
       "      <td>00000dbacae5abe5e23885899a1fa44253a17956c6d1c3...</td>\n",
       "      <td>0673677002 0706016001 0751471043 0920610005 08...</td>\n",
       "    </tr>\n",
       "    <tr>\n",
       "      <th>1</th>\n",
       "      <td>0000423b00ade91418cceaf3b26c6af3dd342b51fd051e...</td>\n",
       "      <td>0751471001 0909370001 0918522001 0924243001 09...</td>\n",
       "    </tr>\n",
       "    <tr>\n",
       "      <th>2</th>\n",
       "      <td>000058a12d5b43e67d225668fa1f8d618c13dc232df0ca...</td>\n",
       "      <td>0673677002 0805947001 0706016001 0751471043 07...</td>\n",
       "    </tr>\n",
       "    <tr>\n",
       "      <th>3</th>\n",
       "      <td>00005ca1c9ed5f5146b52ac8639a40ca9d57aeff4d1bd2...</td>\n",
       "      <td>0751471001 0909370001 0918522001 0924243001 09...</td>\n",
       "    </tr>\n",
       "    <tr>\n",
       "      <th>4</th>\n",
       "      <td>00006413d8573cd20ed7128e53b7b13819fe5cfc2d801f...</td>\n",
       "      <td>0751471001 0909370001 0918522001 0924243001 09...</td>\n",
       "    </tr>\n",
       "    <tr>\n",
       "      <th>...</th>\n",
       "      <td>...</td>\n",
       "      <td>...</td>\n",
       "    </tr>\n",
       "    <tr>\n",
       "      <th>1371975</th>\n",
       "      <td>ffffbbf78b6eaac697a8a5dfbfd2bfa8113ee5b403e474...</td>\n",
       "      <td>0673677002 0706016001 0706016062 0751471043 08...</td>\n",
       "    </tr>\n",
       "    <tr>\n",
       "      <th>1371976</th>\n",
       "      <td>ffffcd5046a6143d29a04fb8c424ce494a76e5cdf4fab5...</td>\n",
       "      <td>0751471001 0909370001 0918522001 0924243001 09...</td>\n",
       "    </tr>\n",
       "    <tr>\n",
       "      <th>1371977</th>\n",
       "      <td>ffffcf35913a0bee60e8741cb2b4e78b8a98ee5ff2e6a1...</td>\n",
       "      <td>0673677002 0898713001 0706016001 0797988002 07...</td>\n",
       "    </tr>\n",
       "    <tr>\n",
       "      <th>1371978</th>\n",
       "      <td>ffffd7744cebcf3aca44ae7049d2a94b87074c3d4ffe38...</td>\n",
       "      <td>0751471001 0909370001 0918522001 0924243001 09...</td>\n",
       "    </tr>\n",
       "    <tr>\n",
       "      <th>1371979</th>\n",
       "      <td>ffffd9ac14e89946416d80e791d064701994755c3ab686...</td>\n",
       "      <td>0751471001 0909370001 0918522001 0924243001 09...</td>\n",
       "    </tr>\n",
       "  </tbody>\n",
       "</table>\n",
       "<p>1371980 rows × 2 columns</p>\n",
       "</div>"
      ],
      "text/plain": [
       "                                               customer_id  \\\n",
       "0        00000dbacae5abe5e23885899a1fa44253a17956c6d1c3...   \n",
       "1        0000423b00ade91418cceaf3b26c6af3dd342b51fd051e...   \n",
       "2        000058a12d5b43e67d225668fa1f8d618c13dc232df0ca...   \n",
       "3        00005ca1c9ed5f5146b52ac8639a40ca9d57aeff4d1bd2...   \n",
       "4        00006413d8573cd20ed7128e53b7b13819fe5cfc2d801f...   \n",
       "...                                                    ...   \n",
       "1371975  ffffbbf78b6eaac697a8a5dfbfd2bfa8113ee5b403e474...   \n",
       "1371976  ffffcd5046a6143d29a04fb8c424ce494a76e5cdf4fab5...   \n",
       "1371977  ffffcf35913a0bee60e8741cb2b4e78b8a98ee5ff2e6a1...   \n",
       "1371978  ffffd7744cebcf3aca44ae7049d2a94b87074c3d4ffe38...   \n",
       "1371979  ffffd9ac14e89946416d80e791d064701994755c3ab686...   \n",
       "\n",
       "                                                prediction  \n",
       "0        0673677002 0706016001 0751471043 0920610005 08...  \n",
       "1        0751471001 0909370001 0918522001 0924243001 09...  \n",
       "2        0673677002 0805947001 0706016001 0751471043 07...  \n",
       "3        0751471001 0909370001 0918522001 0924243001 09...  \n",
       "4        0751471001 0909370001 0918522001 0924243001 09...  \n",
       "...                                                    ...  \n",
       "1371975  0673677002 0706016001 0706016062 0751471043 08...  \n",
       "1371976  0751471001 0909370001 0918522001 0924243001 09...  \n",
       "1371977  0673677002 0898713001 0706016001 0797988002 07...  \n",
       "1371978  0751471001 0909370001 0918522001 0924243001 09...  \n",
       "1371979  0751471001 0909370001 0918522001 0924243001 09...  \n",
       "\n",
       "[1371980 rows x 2 columns]"
      ]
     },
     "execution_count": 63,
     "metadata": {},
     "output_type": "execute_result"
    }
   ],
   "source": [
    "sdf"
   ]
  },
  {
   "cell_type": "code",
   "execution_count": 64,
   "id": "550a60b1-dc64-46d8-951d-7bc52454eee9",
   "metadata": {},
   "outputs": [],
   "source": [
    "sdf.to_csv('sub_nn_binary.csv', index=False)"
   ]
  },
  {
   "cell_type": "code",
   "execution_count": null,
   "id": "c661e923-6f45-43f0-9117-326132c2593f",
   "metadata": {},
   "outputs": [],
   "source": []
  }
 ],
 "metadata": {
  "kernelspec": {
   "display_name": "Python 3 (ipykernel)",
   "language": "python",
   "name": "python3"
  },
  "language_info": {
   "codemirror_mode": {
    "name": "ipython",
    "version": 3
   },
   "file_extension": ".py",
   "mimetype": "text/x-python",
   "name": "python",
   "nbconvert_exporter": "python",
   "pygments_lexer": "ipython3",
   "version": "3.9.7"
  }
 },
 "nbformat": 4,
 "nbformat_minor": 5
}
